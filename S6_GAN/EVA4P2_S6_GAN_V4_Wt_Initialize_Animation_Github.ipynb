{
  "nbformat": 4,
  "nbformat_minor": 0,
  "metadata": {
    "colab": {
      "name": "EVA4P2_S6_GAN_V4_Wt Initialize_Animation_Github.ipynb",
      "provenance": [],
      "collapsed_sections": []
    },
    "kernelspec": {
      "name": "python3",
      "display_name": "Python 3"
    },
    "accelerator": "GPU"
  },
  "cells": [
    {
      "cell_type": "code",
      "metadata": {
        "id": "wlGk2nuq4ZCr",
        "colab_type": "code",
        "colab": {}
      },
      "source": [
        "! nvidia-smi"
      ],
      "execution_count": null,
      "outputs": []
    },
    {
      "cell_type": "code",
      "metadata": {
        "id": "95gzlYvniAPz",
        "colab_type": "code",
        "colab": {
          "base_uri": "https://localhost:8080/",
          "height": 124
        },
        "outputId": "3dc85645-4f4e-4df9-ec1f-9156eabc32f9"
      },
      "source": [
        "from google.colab import drive\n",
        "drive.mount('/content/gdrive')"
      ],
      "execution_count": null,
      "outputs": [
        {
          "output_type": "stream",
          "text": [
            "Go to this URL in a browser: https://accounts.google.com/o/oauth2/auth?client_id=947318989803-6bn6qk8qdgf4n4g3pfee6491hc0brc4i.apps.googleusercontent.com&redirect_uri=urn%3aietf%3awg%3aoauth%3a2.0%3aoob&scope=email%20https%3a%2f%2fwww.googleapis.com%2fauth%2fdocs.test%20https%3a%2f%2fwww.googleapis.com%2fauth%2fdrive%20https%3a%2f%2fwww.googleapis.com%2fauth%2fdrive.photos.readonly%20https%3a%2f%2fwww.googleapis.com%2fauth%2fpeopleapi.readonly&response_type=code\n",
            "\n",
            "Enter your authorization code:\n",
            "4/4AEmo1_jQD0PBjO-tpAuKc4_OgF0raU9h0Xj1fWTsx2hBXBXm94o0Go\n",
            "Mounted at /content/gdrive\n"
          ],
          "name": "stdout"
        }
      ]
    },
    {
      "cell_type": "code",
      "metadata": {
        "id": "aYrGOUqlURIQ",
        "colab_type": "code",
        "colab": {}
      },
      "source": [
        "!pip install torch==1.5.1+cu92 torchvision==0.6.1+cu92 -f https://download.pytorch.org/whl/torch_stable.html"
      ],
      "execution_count": null,
      "outputs": []
    },
    {
      "cell_type": "code",
      "metadata": {
        "id": "teyHqGVbqdfJ",
        "colab_type": "code",
        "colab": {
          "base_uri": "https://localhost:8080/",
          "height": 35
        },
        "outputId": "49fe7b02-cb6c-42a5-fc8f-93811e6cb518"
      },
      "source": [
        "import warnings\n",
        "warnings.filterwarnings('ignore')\n",
        "import zipfile\n",
        "from zipfile import ZipFile\n",
        "from pathlib import Path\n",
        "from time import time\n",
        "from datetime import datetime \n",
        "from __future__ import print_function\n",
        "import torch\n",
        "import torchvision\n",
        "from torchvision import transforms\n",
        "from torch.utils.data import DataLoader, Dataset\n",
        "import torchvision.utils as vutils \n",
        "import torch.nn as nn\n",
        "import torch.nn.functional as F\n",
        "import torch.optim as optim\n",
        "import numpy as np\n",
        "from tqdm import tqdm\n",
        "from PIL import Image\n",
        "from tqdm import tqdm_notebook\n",
        "import matplotlib.pyplot as plt\n",
        "from matplotlib.pyplot import imshow, imsave\n",
        "import cv2\n",
        "import pkgutil\n",
        "import importlib\n",
        "import os\n",
        "import random\n",
        "%matplotlib inline\n",
        "%config IPCompleter.greedy=True\n",
        "%reload_ext autoreload\n",
        "import io\n",
        "import skimage\n",
        "from skimage.transform import resize\n",
        "from itertools import groupby\n",
        "from tqdm.auto import tqdm\n",
        "import gc\n",
        "import seaborn as sns\n",
        "import matplotlib.animation as animation\n",
        "from IPython.display import HTML\n",
        "sns.set()\n",
        "print('Pytorch version:', torch.__version__)"
      ],
      "execution_count": null,
      "outputs": [
        {
          "output_type": "stream",
          "text": [
            "Pytorch version: 1.5.1+cu92\n"
          ],
          "name": "stdout"
        }
      ]
    },
    {
      "cell_type": "code",
      "metadata": {
        "id": "P40u7NqXi5K5",
        "colab_type": "code",
        "colab": {
          "base_uri": "https://localhost:8080/",
          "height": 52
        },
        "outputId": "7c880b96-a0ae-4e81-88e0-18fa73c43c23"
      },
      "source": [
        "%%time\n",
        "from zipfile import ZipFile\n",
        "with ZipFile('/content/gdrive/My Drive/EVA4P2_S6_Zipdataset/EVA4P2_S6_GAN_Cars_better_Size128.zip', mode='r') as input:\n",
        "  input.extractall('.')"
      ],
      "execution_count": null,
      "outputs": [
        {
          "output_type": "stream",
          "text": [
            "CPU times: user 36.4 ms, sys: 15.3 ms, total: 51.7 ms\n",
            "Wall time: 665 ms\n"
          ],
          "name": "stdout"
        }
      ]
    },
    {
      "cell_type": "code",
      "metadata": {
        "id": "Ewsj1xrVj6TN",
        "colab_type": "code",
        "colab": {}
      },
      "source": [
        "def prepare_data(root, classes):\n",
        "  finaldata = []\n",
        "  for i in range(len(classes)):\n",
        "    path = root + '/' + classes[i] + '/'\n",
        "    data_rec = [(path+file_name, i) for file_name in os.listdir(path)]\n",
        "    finaldata.extend(data_rec) \n",
        "  random.shuffle(finaldata)\n",
        "  return finaldata"
      ],
      "execution_count": null,
      "outputs": []
    },
    {
      "cell_type": "code",
      "metadata": {
        "id": "6294l44Rqzcc",
        "colab_type": "code",
        "colab": {}
      },
      "source": [
        "class_list       = [0]\n",
        "class_names_dict = {0:'Cars'}\n",
        "class_names      = ['Cars']"
      ],
      "execution_count": null,
      "outputs": []
    },
    {
      "cell_type": "code",
      "metadata": {
        "id": "iETGFw_-kgAG",
        "colab_type": "code",
        "colab": {
          "base_uri": "https://localhost:8080/",
          "height": 35
        },
        "outputId": "ccaaac3b-64c5-4623-dfb7-d1f538876565"
      },
      "source": [
        "dataset          = prepare_data('/content/Data',class_names)\n",
        "print(f'Dataset Length:{len(dataset)}, Train Data length: {int(len(dataset)*1)}') \n",
        "train_len = int(len(dataset)*1)"
      ],
      "execution_count": null,
      "outputs": [
        {
          "output_type": "stream",
          "text": [
            "Dataset Length:505, Train Data length: 505\n"
          ],
          "name": "stdout"
        }
      ]
    },
    {
      "cell_type": "code",
      "metadata": {
        "id": "lyvhqNrUUfft",
        "colab_type": "code",
        "colab": {
          "base_uri": "https://localhost:8080/",
          "height": 139
        },
        "outputId": "7214be34-9261-4582-cdf6-03cf715ff069"
      },
      "source": [
        "# Copying the code from github to colab\n",
        "os.chdir('/content/')\n",
        "!git clone https://github.com/anilbhatt1/Deep_Learning_EVA4_Phase2"
      ],
      "execution_count": null,
      "outputs": [
        {
          "output_type": "stream",
          "text": [
            "Cloning into 'Deep_Learning_EVA4_Phase2'...\n",
            "remote: Enumerating objects: 8, done.\u001b[K\n",
            "remote: Counting objects: 100% (8/8), done.\u001b[K\n",
            "remote: Compressing objects: 100% (8/8), done.\u001b[K\n",
            "remote: Total 617 (delta 2), reused 0 (delta 0), pack-reused 609\u001b[K\n",
            "Receiving objects: 100% (617/617), 21.93 MiB | 26.26 MiB/s, done.\n",
            "Resolving deltas: 100% (325/325), done.\n"
          ],
          "name": "stdout"
        }
      ]
    },
    {
      "cell_type": "code",
      "metadata": {
        "id": "NX_yP0dQUj02",
        "colab_type": "code",
        "colab": {
          "base_uri": "https://localhost:8080/",
          "height": 52
        },
        "outputId": "23585c86-9611-447d-834e-95f3c4451aad"
      },
      "source": [
        "%cd '/content/Deep_Learning_EVA4_Phase2/S6_GAN'\n",
        "! ls"
      ],
      "execution_count": null,
      "outputs": [
        {
          "output_type": "stream",
          "text": [
            "/content/Deep_Learning_EVA4_Phase2/S6_GAN\n",
            "EVA4P2_S6_GAN_V2.ipynb\tEVA4P2_S6_GAN_V3.ipynb\tREADME.md  src\n"
          ],
          "name": "stdout"
        }
      ]
    },
    {
      "cell_type": "code",
      "metadata": {
        "id": "7Ly1BVxUUdHI",
        "colab_type": "code",
        "colab": {}
      },
      "source": [
        "os.chdir('/content/Deep_Learning_EVA4_Phase2/S6_GAN/')\n",
        "import src\n",
        "from src.dataset import datatransforms as dtf\n",
        "from src.dataset import customdataset as cds\n",
        "from src.dataset import Alb_data_transforms as Alb\n",
        "from src.losses  import Train_Losses\n",
        "from src.losses  import Test_Losses"
      ],
      "execution_count": null,
      "outputs": []
    },
    {
      "cell_type": "code",
      "metadata": {
        "id": "911SnBAUeXty",
        "colab_type": "code",
        "colab": {}
      },
      "source": [
        "import albumentations as A\n",
        "channel_means  = (0.48043839, 0.44820218, 0.39760034)\n",
        "channel_stdevs = (0.27698959, 0.26908774, 0.28216029)\n",
        "# Train Phase transformations\n",
        "train_transforms = Alb.Albumentations_transform([\n",
        "                                      A.Resize(128, 128),\n",
        "                                      A.Normalize(mean=channel_means, std=channel_stdevs),\n",
        "                                    ])"
      ],
      "execution_count": null,
      "outputs": []
    },
    {
      "cell_type": "code",
      "metadata": {
        "id": "w284mZobFQU_",
        "colab_type": "code",
        "colab": {
          "base_uri": "https://localhost:8080/",
          "height": 35
        },
        "outputId": "5480d0d0-72d5-4930-cf53-7290f2771394"
      },
      "source": [
        "train = cds.Customdataset(dataset[:train_len],train_transforms)\n",
        "print(f'Train Length {len(train)}')"
      ],
      "execution_count": null,
      "outputs": [
        {
          "output_type": "stream",
          "text": [
            "Train Length 505\n"
          ],
          "name": "stdout"
        }
      ]
    },
    {
      "cell_type": "code",
      "metadata": {
        "id": "Vj-zanqlGs8G",
        "colab_type": "code",
        "colab": {}
      },
      "source": [
        "train_loader  = DataLoader(train, batch_size = 32,shuffle = True, num_workers=2, pin_memory = True)"
      ],
      "execution_count": null,
      "outputs": []
    },
    {
      "cell_type": "code",
      "metadata": {
        "id": "lJmuNR5wsLNg",
        "colab_type": "code",
        "colab": {}
      },
      "source": [
        "def unnormalize(img):\n",
        "  img = img.cpu().numpy().astype(dtype=np.float32)\n",
        "  #print(img.shape)\n",
        "  for i in range(img.shape[0]):\n",
        "    img[i] = (img[i]*channel_stdevs[i]) + channel_means[i]\n",
        "  return np.transpose(img, (1,2,0))"
      ],
      "execution_count": null,
      "outputs": []
    },
    {
      "cell_type": "code",
      "metadata": {
        "id": "PhyUjUybsOAt",
        "colab_type": "code",
        "colab": {}
      },
      "source": [
        "dataiter = iter(train_loader)"
      ],
      "execution_count": null,
      "outputs": []
    },
    {
      "cell_type": "code",
      "metadata": {
        "id": "tMi3i9NwsQdB",
        "colab_type": "code",
        "colab": {}
      },
      "source": [
        "images, labels = dataiter.next()\n",
        "print(f'To check if images are coming out correctly as batches, images.shape: {images.shape}, labels.shape: {labels.shape}')\n",
        "num_classes = len(class_names)\n",
        "r, c = 5, 5\n",
        "fig = plt.figure(figsize=(14,14))\n",
        "fig.subplots_adjust(hspace=0.01, wspace=0.3)\n",
        "for i in range(r):\n",
        "  for j in range(c):\n",
        "    idx = i*c + j\n",
        "    ax  = plt.subplot(r,c, idx + 1)\n",
        "    ax.set_title(class_names[labels[idx]][:30], fontdict={'fontsize':8})\n",
        "    plt.axis('off')\n",
        "    ax.imshow(unnormalize(images[idx]), interpolation ='none')\n",
        "plt.show() "
      ],
      "execution_count": null,
      "outputs": []
    },
    {
      "cell_type": "code",
      "metadata": {
        "id": "EsUvRBG7IUzS",
        "colab_type": "code",
        "colab": {}
      },
      "source": [
        "MODEL_NAME = 'DCGAN'\n",
        "DEVICE = torch.device(\"cuda:0\" if torch.cuda.is_available() else \"cpu\")"
      ],
      "execution_count": null,
      "outputs": []
    },
    {
      "cell_type": "code",
      "metadata": {
        "id": "oF4q_1XwKZxJ",
        "colab_type": "code",
        "colab": {}
      },
      "source": [
        "IMAGE_DIM = (128, 128, 3)"
      ],
      "execution_count": null,
      "outputs": []
    },
    {
      "cell_type": "code",
      "metadata": {
        "id": "_ozG_9UWIXpx",
        "colab_type": "code",
        "colab": {}
      },
      "source": [
        "def get_sample_image(G, n_noise):\n",
        "    \"\"\"\n",
        "        Generate sample 10 images\n",
        "    \"\"\"\n",
        "    z = torch.randn(10, n_noise).to(DEVICE)\n",
        "    y_hat = G(z).view(10, 3, 128, 128).permute(0, 2, 3, 1)    #Modify axes to (10, 28, 28, 3) via permute\n",
        "    result = (y_hat.detach().cpu().numpy()+1)/2.\n",
        "    return result"
      ],
      "execution_count": null,
      "outputs": []
    },
    {
      "cell_type": "code",
      "metadata": {
        "id": "yJbK42aztFd8",
        "colab_type": "code",
        "colab": {}
      },
      "source": [
        "def weights_init(m):\n",
        "    classname = m.__class__.__name__\n",
        "    if classname.find('Conv') != -1:\n",
        "        nn.init.normal_(m.weight.data, 0.0, 0.02)\n",
        "    elif classname.find('BatchNorm') != -1:\n",
        "        nn.init.normal_(m.weight.data, 1.0, 0.02)\n",
        "        nn.init.constant_(m.bias.data, 0)"
      ],
      "execution_count": null,
      "outputs": []
    },
    {
      "cell_type": "code",
      "metadata": {
        "id": "EnaV2o42IZka",
        "colab_type": "code",
        "colab": {}
      },
      "source": [
        "class Discriminator(nn.Module):\n",
        "    def __init__(self, in_channel=1, num_classes=1):\n",
        "        super(Discriminator, self).__init__()\n",
        "        self.conv = nn.Sequential(\n",
        "            # Conv-1 -> 128 -> 64\n",
        "            nn.Conv2d(in_channel, 512, 3, stride=2, padding=1, bias=False),\n",
        "            nn.BatchNorm2d(512),\n",
        "            nn.LeakyReLU(0.2),\n",
        "            # Conv-2 -> 64 -> 32\n",
        "            nn.Conv2d(512, 256, 3, stride=2, padding=1, bias=False),\n",
        "            nn.BatchNorm2d(256),\n",
        "            nn.LeakyReLU(0.2),\n",
        "            # Conv-3 -> 32 -> 16\n",
        "            nn.Conv2d(256, 128, 3, stride=2, padding=1, bias=False),\n",
        "            nn.BatchNorm2d(128),\n",
        "            nn.LeakyReLU(0.2),\n",
        "            # Conv-4 -> 16 -> 8\n",
        "            nn.Conv2d(128, 128, 3, stride=2, padding=1, bias=False),\n",
        "            nn.BatchNorm2d(128),\n",
        "            nn.LeakyReLU(0.2),\n",
        "            # Conv-5 -> 8 -> 4\n",
        "            nn.Conv2d(128, 128, 3, stride=2, padding=1, bias=False),\n",
        "            nn.BatchNorm2d(128),\n",
        "            nn.LeakyReLU(0.2),\n",
        "            # Conv-6 -> 4 -> 2\n",
        "            nn.Conv2d(128, 128, 3, stride=2, padding=1, bias=False),\n",
        "            nn.BatchNorm2d(128),\n",
        "            nn.LeakyReLU(0.2),\n",
        "            nn.AdaptiveAvgPool2d(1),\n",
        "        )        \n",
        "        self.fc = nn.Sequential(\n",
        "            # reshape input, 128 -> 1\n",
        "            nn.Linear(128, 1),\n",
        "            nn.Sigmoid(),\n",
        "        )\n",
        "    \n",
        "    def forward(self, x, y=None):\n",
        "        y_ = self.conv(x)\n",
        "        y_ = y_.view(y_.size(0), -1)\n",
        "        y_ = self.fc(y_)\n",
        "        return y_"
      ],
      "execution_count": null,
      "outputs": []
    },
    {
      "cell_type": "code",
      "metadata": {
        "id": "x6I_AdMtIefR",
        "colab_type": "code",
        "colab": {}
      },
      "source": [
        "class Generator(nn.Module):\n",
        "    def __init__(self, out_channel=3, input_size=100, num_classes=784):\n",
        "        super(Generator, self).__init__()\n",
        "        assert IMAGE_DIM[0] % 2**4 == 0, 'Should be divided 16'\n",
        "        self.init_dim = (IMAGE_DIM[0] // 2**4, IMAGE_DIM[1] // 2**4)        \n",
        "        self.fc = nn.Sequential(\n",
        "            nn.Linear(input_size, self.init_dim[0]*self.init_dim[1]*32),\n",
        "            nn.ReLU(),\n",
        "        ) # 100 -> 2048\n",
        "        self.conv = nn.Sequential(\n",
        "            nn.Conv2d(32, 32, 3, padding=1, bias=False),\n",
        "            nn.BatchNorm2d(32),\n",
        "            nn.ReLU(),\n",
        "            # 32768 -> 8x8x512    \n",
        "            nn.ConvTranspose2d(32, 256, 4, stride=2, padding=1, bias=False),\n",
        "            nn.BatchNorm2d(256),\n",
        "            nn.ReLU(),\n",
        "            # 8x8x512 -> 16x16x256\n",
        "            nn.ConvTranspose2d(256, 128, 4, stride=2, padding=1, bias=False),\n",
        "            nn.BatchNorm2d(128),\n",
        "            nn.ReLU(),\n",
        "            # 16x16x256 -> 32x32x128\n",
        "            nn.ConvTranspose2d(128, 64, 4, stride=2, padding=1, bias=False),\n",
        "            nn.BatchNorm2d(64),\n",
        "            nn.ReLU(),\n",
        "            # 32x32x64 -> 64x64x64                   \n",
        "            nn.ConvTranspose2d(64, out_channel, 4, stride=2, padding=1, bias=False),\n",
        "            # 64x64x64 -> 128x128x3\n",
        "            nn.Tanh(),\n",
        "        )\n",
        "        \n",
        "    def forward(self, x, y=None):\n",
        "        x = x.view(x.size(0), -1)\n",
        "        y_ = self.fc(x)\n",
        "        y_ = y_.view(y_.size(0), 32, self.init_dim[0], self.init_dim[1])\n",
        "        y_ = self.conv(y_)\n",
        "        return y_"
      ],
      "execution_count": null,
      "outputs": []
    },
    {
      "cell_type": "code",
      "metadata": {
        "id": "EoWSIIiWqsl5",
        "colab_type": "code",
        "colab": {}
      },
      "source": [
        "use_cuda = torch.cuda.is_available()\n",
        "DEVICE = torch.device(\"cuda\" if use_cuda else \"cpu\")"
      ],
      "execution_count": null,
      "outputs": []
    },
    {
      "cell_type": "code",
      "metadata": {
        "id": "Fp0gm1ioIjA5",
        "colab_type": "code",
        "colab": {}
      },
      "source": [
        "D = Discriminator(in_channel=IMAGE_DIM[-1]).to(DEVICE)\n",
        "D.apply(weights_init)\n",
        "G = Generator(out_channel=IMAGE_DIM[-1]).to(DEVICE)\n",
        "G.apply(weights_init)"
      ],
      "execution_count": null,
      "outputs": []
    },
    {
      "cell_type": "code",
      "metadata": {
        "id": "TtFPsxKl6nfZ",
        "colab_type": "code",
        "colab": {
          "base_uri": "https://localhost:8080/",
          "height": 35
        },
        "outputId": "519c6d27-48c1-4177-84eb-ce57c1a064d7"
      },
      "source": [
        "!pip install torchsummary\n",
        "from torchsummary import summary"
      ],
      "execution_count": null,
      "outputs": [
        {
          "output_type": "stream",
          "text": [
            "Requirement already satisfied: torchsummary in /usr/local/lib/python3.6/dist-packages (1.5.1)\n"
          ],
          "name": "stdout"
        }
      ]
    },
    {
      "cell_type": "code",
      "metadata": {
        "id": "aRZwSWmL8p_h",
        "colab_type": "code",
        "colab": {
          "base_uri": "https://localhost:8080/",
          "height": 607
        },
        "outputId": "cc2e6ad3-d7be-48eb-a2a0-a5695ba6a4aa"
      },
      "source": [
        "summary(D, input_size=(3, 128, 128))"
      ],
      "execution_count": null,
      "outputs": [
        {
          "output_type": "stream",
          "text": [
            "----------------------------------------------------------------\n",
            "        Layer (type)               Output Shape         Param #\n",
            "================================================================\n",
            "            Conv2d-1          [-1, 512, 64, 64]          13,824\n",
            "       BatchNorm2d-2          [-1, 512, 64, 64]           1,024\n",
            "         LeakyReLU-3          [-1, 512, 64, 64]               0\n",
            "            Conv2d-4          [-1, 256, 32, 32]       1,179,648\n",
            "       BatchNorm2d-5          [-1, 256, 32, 32]             512\n",
            "         LeakyReLU-6          [-1, 256, 32, 32]               0\n",
            "            Conv2d-7          [-1, 128, 16, 16]         294,912\n",
            "       BatchNorm2d-8          [-1, 128, 16, 16]             256\n",
            "         LeakyReLU-9          [-1, 128, 16, 16]               0\n",
            "           Conv2d-10            [-1, 128, 8, 8]         147,456\n",
            "      BatchNorm2d-11            [-1, 128, 8, 8]             256\n",
            "        LeakyReLU-12            [-1, 128, 8, 8]               0\n",
            "           Conv2d-13            [-1, 128, 4, 4]         147,456\n",
            "      BatchNorm2d-14            [-1, 128, 4, 4]             256\n",
            "        LeakyReLU-15            [-1, 128, 4, 4]               0\n",
            "           Conv2d-16            [-1, 128, 2, 2]         147,456\n",
            "      BatchNorm2d-17            [-1, 128, 2, 2]             256\n",
            "        LeakyReLU-18            [-1, 128, 2, 2]               0\n",
            "AdaptiveAvgPool2d-19            [-1, 128, 1, 1]               0\n",
            "           Linear-20                    [-1, 1]             129\n",
            "          Sigmoid-21                    [-1, 1]               0\n",
            "================================================================\n",
            "Total params: 1,933,441\n",
            "Trainable params: 1,933,441\n",
            "Non-trainable params: 0\n",
            "----------------------------------------------------------------\n",
            "Input size (MB): 0.19\n",
            "Forward/backward pass size (MB): 55.00\n",
            "Params size (MB): 7.38\n",
            "Estimated Total Size (MB): 62.56\n",
            "----------------------------------------------------------------\n"
          ],
          "name": "stdout"
        }
      ]
    },
    {
      "cell_type": "code",
      "metadata": {
        "id": "27JSGPT_80Ge",
        "colab_type": "code",
        "colab": {
          "base_uri": "https://localhost:8080/",
          "height": 520
        },
        "outputId": "e3d316fc-cf88-40a5-dade-03d4f920c30b"
      },
      "source": [
        "summary(G, input_size=(1,100))"
      ],
      "execution_count": null,
      "outputs": [
        {
          "output_type": "stream",
          "text": [
            "----------------------------------------------------------------\n",
            "        Layer (type)               Output Shape         Param #\n",
            "================================================================\n",
            "            Linear-1                 [-1, 2048]         206,848\n",
            "              ReLU-2                 [-1, 2048]               0\n",
            "            Conv2d-3             [-1, 32, 8, 8]           9,216\n",
            "       BatchNorm2d-4             [-1, 32, 8, 8]              64\n",
            "              ReLU-5             [-1, 32, 8, 8]               0\n",
            "   ConvTranspose2d-6          [-1, 256, 16, 16]         131,072\n",
            "       BatchNorm2d-7          [-1, 256, 16, 16]             512\n",
            "              ReLU-8          [-1, 256, 16, 16]               0\n",
            "   ConvTranspose2d-9          [-1, 128, 32, 32]         524,288\n",
            "      BatchNorm2d-10          [-1, 128, 32, 32]             256\n",
            "             ReLU-11          [-1, 128, 32, 32]               0\n",
            "  ConvTranspose2d-12           [-1, 64, 64, 64]         131,072\n",
            "      BatchNorm2d-13           [-1, 64, 64, 64]             128\n",
            "             ReLU-14           [-1, 64, 64, 64]               0\n",
            "  ConvTranspose2d-15          [-1, 3, 128, 128]           3,072\n",
            "             Tanh-16          [-1, 3, 128, 128]               0\n",
            "================================================================\n",
            "Total params: 1,006,528\n",
            "Trainable params: 1,006,528\n",
            "Non-trainable params: 0\n",
            "----------------------------------------------------------------\n",
            "Input size (MB): 0.00\n",
            "Forward/backward pass size (MB): 11.33\n",
            "Params size (MB): 3.84\n",
            "Estimated Total Size (MB): 15.17\n",
            "----------------------------------------------------------------\n"
          ],
          "name": "stdout"
        }
      ]
    },
    {
      "cell_type": "code",
      "metadata": {
        "id": "1fdrhxOLIrux",
        "colab_type": "code",
        "colab": {}
      },
      "source": [
        "criterion = nn.BCELoss()\n",
        "D_opt = torch.optim.Adam(D.parameters(), lr=0.003, betas=(0.5, 0.999))\n",
        "G_opt = torch.optim.Adam(G.parameters(), lr=0.003, betas=(0.5, 0.999))\n",
        "\n",
        "# Establish convention for real and fake labels during training\n",
        "real_label = 1.\n",
        "fake_label = 0.\n",
        "fixed_noise = torch.randn(64, 100, 1, 1, device=DEVICE)\n",
        "\n",
        "D_loss_all, G_loss_all, img_list = [], [], []\n",
        "step = 0"
      ],
      "execution_count": null,
      "outputs": []
    },
    {
      "cell_type": "code",
      "metadata": {
        "id": "1tHnE-88IxFZ",
        "colab_type": "code",
        "colab": {}
      },
      "source": [
        "max_epoch = 2000\n",
        "n_noise = 100\n",
        "batch_size = 32"
      ],
      "execution_count": null,
      "outputs": []
    },
    {
      "cell_type": "code",
      "metadata": {
        "id": "YFgVDXA-I0th",
        "colab_type": "code",
        "colab": {
          "base_uri": "https://localhost:8080/",
          "height": 35
        },
        "outputId": "aedf5618-a6f6-4947-91e5-220f5177f467"
      },
      "source": [
        "D_prev_save = f'/content/gdrive/My Drive/EVA4P2_S6_Training/Model_Weights_D0911/D_GPU_495_20200911120402.pt'\n",
        "D.load_state_dict(torch.load(D_prev_save))\n",
        "G_prev_save = f'/content/gdrive/My Drive/EVA4P2_S6_Training/Model_Weights_D0911/G_GPU_495_20200911120402.pt'\n",
        "G.load_state_dict(torch.load(G_prev_save))"
      ],
      "execution_count": null,
      "outputs": [
        {
          "output_type": "execute_result",
          "data": {
            "text/plain": [
              "<All keys matched successfully>"
            ]
          },
          "metadata": {
            "tags": []
          },
          "execution_count": 30
        }
      ]
    },
    {
      "cell_type": "code",
      "metadata": {
        "id": "UAmWM_ZNI1cj",
        "colab_type": "code",
        "colab": {}
      },
      "source": [
        "for epoch in range(496, max_epoch):\n",
        "    D_labels = torch.ones([batch_size, 1]).to(DEVICE) # Discriminator Label to real\n",
        "    D_fakes = torch.zeros([batch_size, 1]).to(DEVICE) # Discriminator Label to fake\n",
        "\n",
        "    for idx, images in enumerate(train_loader):\n",
        "\n",
        "        batch = images[0].shape[0]\n",
        "\n",
        "        # Training Discriminator with real images\n",
        "        D.zero_grad()\n",
        "        D_labels = torch.full((batch,), real_label, dtype=torch.float, device=DEVICE)\n",
        "        real_img = images[0].to(DEVICE)\n",
        "        real_outputs = D(real_img)\n",
        "        D_real_loss = criterion(real_outputs, D_labels)\n",
        "        D_real_loss.backward()\n",
        "\n",
        "        # Training Discriminator with generated fake images. Also update D\n",
        "        z = torch.randn(batch, n_noise).to(DEVICE)\n",
        "        fake_img     = G(z)\n",
        "        D_labels.fill_(fake_label)\n",
        "        fake_outputs = D(fake_img)\n",
        "        D_fake_loss = criterion(fake_outputs, D_labels)\n",
        "        D_fake_loss.backward()        \n",
        "        D_loss = D_real_loss + D_fake_loss        \n",
        "        D_opt.step()\n",
        "\n",
        "        # Training Generator. Also update G\n",
        "        D.zero_grad()     \n",
        "        G.zero_grad()     \n",
        "        D_labels.fill_(real_label)\n",
        "        z = torch.randn(batch, n_noise).to(DEVICE)\n",
        "        fake_img = G(z)\n",
        "        fake_outputs = D(fake_img)\n",
        "        G_loss = criterion(fake_outputs, D_labels)        \n",
        "        G_loss.backward()\n",
        "        G_opt.step()\n",
        "        \n",
        "        if step % 150 == 0 or ((epoch == max_epoch-1) and (idx == len(train_loader)-1)):\n",
        "            print(f'Epoch: {epoch+1}/{max_epoch}, Step: {step}, D Loss: {D_loss.item():.6f}, G Loss: {G_loss.item():.6f}')\n",
        "            G.eval()\n",
        "            img = get_sample_image(G, n_noise)\n",
        "            t = datetime.now()\n",
        "            time_stamp = t.strftime(\"%Y\")+t.strftime(\"%m\")+t.strftime(\"%d\")+t.strftime(\"%H\")+t.strftime(\"%M\")+t.strftime(\"%S\")\n",
        "            imsave(f'/content/gdrive/My Drive/EVA4P2_S6_Training/Images_Size128_D0911/DCGAN_{epoch+1}_{step:05d}_{time_stamp}.jpg', img[0])\n",
        "            \n",
        "            fake_img = G(fixed_noise).detach().cpu()\n",
        "            img_list.append(vutils.make_grid(fake_img, padding=2, normalize=True)) \n",
        "            G.train()\n",
        "         \n",
        "        step += 1  \n",
        "\n",
        "    D_loss_all.append(D_loss.item())\n",
        "    G_loss_all.append(G_loss.item())\n",
        "    print(f'Epoch: {epoch+1}/{max_epoch},   D Loss: {D_loss.item():.6f}, G Loss: {G_loss.item():.6f}')\n",
        "\n",
        "    if epoch % 45 == 0 or (epoch == (max_epoch-1) and (idx == len(train_loader)-1)): ### Keep the model in Gpu & Save the model values in intermittent epochs\n",
        "        t = datetime.now()\n",
        "        time_stamp = t.strftime(\"%Y\")+t.strftime(\"%m\")+t.strftime(\"%d\")+t.strftime(\"%H\")+t.strftime(\"%M\")+t.strftime(\"%S\")         \n",
        "        torch.save(D.state_dict(),f'/content/gdrive/My Drive/EVA4P2_S6_Training/Model_Weights_D0911/D_GPU_{epoch}_{time_stamp}.pt')\n",
        "        torch.save(G.state_dict(),f'/content/gdrive/My Drive/EVA4P2_S6_Training/Model_Weights_D0911/G_GPU_{epoch}_{time_stamp}.pt') \n",
        "        print(f'GPU model saved in epoch {epoch+1}/{max_epoch}')                           \n",
        "         \n",
        "    if (epoch == (max_epoch-1) and (idx == len(train_loader)-1)):    ### Convert the model to CPU & save the model values on final epoch              \n",
        "        t = datetime.now()\n",
        "        time_stamp = t.strftime(\"%Y\")+t.strftime(\"%m\")+t.strftime(\"%d\")+t.strftime(\"%H\")+t.strftime(\"%M\")+t.strftime(\"%S\")\n",
        "        D.eval()\n",
        "        D.to('cpu')\n",
        "        traced_D = torch.jit.trace(D,torch.randn(1,3,128,128))      \n",
        "        traced_D.save(f'/content/gdrive/My Drive/EVA4P2_S6_Training/Model_Weights_D0911/D_CPU_{epoch}_{time_stamp}.pt')\n",
        "        G.eval()\n",
        "        G.to('cpu')\n",
        "        traced_G = torch.jit.trace(G,torch.randn(1,1,100))\n",
        "        traced_G.save(f'/content/gdrive/My Drive/EVA4P2_S6_Training/Model_Weights_D0911/G_CPU_{epoch}_{time_stamp}.pt') \n",
        "        print(f' **** CPU model Saved in epoch:{epoch+1}/{max_epoch}')\n",
        "        D.to(DEVICE)      \n",
        "        G.to(DEVICE)\n",
        "        D.train()\n",
        "        G.train()"
      ],
      "execution_count": null,
      "outputs": []
    },
    {
      "cell_type": "code",
      "metadata": {
        "id": "odmdS90ZJcbf",
        "colab_type": "code",
        "colab": {
          "base_uri": "https://localhost:8080/",
          "height": 294
        },
        "outputId": "666bf403-c232-42d4-86d0-813ae1bd8980"
      },
      "source": [
        "figure = plt.figure(figsize=(25,5))\n",
        "labels = ['Loss Plots']\n",
        "\n",
        "plt.subplot(1,3,1)\n",
        "plt.title(\"D & G Losses\")\n",
        "plt.plot(D_loss_all,label='D loss')\n",
        "plt.plot(G_loss_all,label='G loss')\n",
        "plt.legend(loc=\"best\")\n",
        "\n",
        "plt.subplot(1,3,2)\n",
        "plt.title(\"D Losses\")\n",
        "plt.plot(D_loss_all,label='D Loss')\n",
        "plt.legend(loc=\"best\")\n",
        "\n",
        "plt.subplot(1,3,3)\n",
        "plt.title(\"G Losses\")\n",
        "plt.plot(G_loss_all,label='G Loss')\n",
        "plt.legend(loc=\"best\")"
      ],
      "execution_count": null,
      "outputs": [
        {
          "output_type": "execute_result",
          "data": {
            "text/plain": [
              "<matplotlib.legend.Legend at 0x7f49c2704e10>"
            ]
          },
          "metadata": {
            "tags": []
          },
          "execution_count": 33
        },
        {
          "output_type": "display_data",
          "data": {
            "image/png": "[encoded data removed]",
            "text/plain": [
              "<Figure size 1800x360 with 3 Axes>"
            ]
          },
          "metadata": {
            "tags": []
          }
        }
      ]
    },
    {
      "cell_type": "code",
      "metadata": {
        "id": "K7rQfvZbpviR",
        "colab_type": "code",
        "colab": {
          "base_uri": "https://localhost:8080/",
          "height": 35
        },
        "outputId": "19e1d26f-a68a-43d3-d8a6-341b907e7971"
      },
      "source": [
        "len(D_loss_all)"
      ],
      "execution_count": null,
      "outputs": [
        {
          "output_type": "execute_result",
          "data": {
            "text/plain": [
              "1504"
            ]
          },
          "metadata": {
            "tags": []
          },
          "execution_count": 34
        }
      ]
    },
    {
      "cell_type": "code",
      "metadata": {
        "id": "5GiWlmKBJALI",
        "colab_type": "code",
        "colab": {}
      },
      "source": [
        "#%%capture\n",
        "fig = plt.figure(figsize=(8,8))\n",
        "plt.axis(\"off\")\n",
        "ims = [[plt.imshow(np.transpose(i,(1,2,0)), animated=True)] for i in img_list]\n",
        "ani = animation.ArtistAnimation(fig, ims, interval=1000, repeat_delay=1000, blit=True)\n",
        "\n",
        "HTML(ani.to_jshtml())"
      ],
      "execution_count": null,
      "outputs": []
    },
    {
      "cell_type": "code",
      "metadata": {
        "id": "IkorhFraRjTL",
        "colab_type": "code",
        "colab": {}
      },
      "source": [
        "Writer = animation.writers['ffmpeg']\n",
        "writer = Writer(fps=4, metadata=dict(artist='Me'), bitrate=1800)\n",
        "ani.save(f'/content/gdrive/My Drive/EVA4P2_S6_Training/animation_2.mp4', writer=writer)"
      ],
      "execution_count": null,
      "outputs": []
    },
    {
      "cell_type": "code",
      "metadata": {
        "id": "VNvHuoR4p_05",
        "colab_type": "code",
        "colab": {}
      },
      "source": [
        "# generation to image\n",
        "G.eval()\n",
        "imshow(get_sample_image(G, n_noise)[1])"
      ],
      "execution_count": null,
      "outputs": []
    },
    {
      "cell_type": "code",
      "metadata": {
        "id": "jhA7YJckI96Z",
        "colab_type": "code",
        "colab": {}
      },
      "source": [
        "# Real Image\n",
        "t = Image.open(dataset[128][0])\n",
        "t = (train_transforms(t).permute(1, 2, 0)+1)/2.\n",
        "imshow(t)"
      ],
      "execution_count": null,
      "outputs": []
    }
  ]
}