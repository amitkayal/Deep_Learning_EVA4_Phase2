{
  "nbformat": 4,
  "nbformat_minor": 0,
  "metadata": {
    "colab": {
      "name": "EVA4P2_S6_GAN_V2.ipynb",
      "provenance": [],
      "collapsed_sections": []
    },
    "kernelspec": {
      "name": "python3",
      "display_name": "Python 3"
    },
    "accelerator": "GPU"
  },
  "cells": [
    {
      "cell_type": "code",
      "metadata": {
        "id": "wlGk2nuq4ZCr",
        "colab_type": "code",
        "colab": {
          "base_uri": "https://localhost:8080/",
          "height": 364
        },
        "outputId": "36cd1b79-9b58-4f64-b88a-e4b3dae44ee7"
      },
      "source": [
        "! nvidia-smi"
      ],
      "execution_count": 1,
      "outputs": [
        {
          "output_type": "stream",
          "text": [
            "Wed Sep  9 12:46:17 2020       \n",
            "+-----------------------------------------------------------------------------+\n",
            "| NVIDIA-SMI 450.66       Driver Version: 418.67       CUDA Version: 10.1     |\n",
            "|-------------------------------+----------------------+----------------------+\n",
            "| GPU  Name        Persistence-M| Bus-Id        Disp.A | Volatile Uncorr. ECC |\n",
            "| Fan  Temp  Perf  Pwr:Usage/Cap|         Memory-Usage | GPU-Util  Compute M. |\n",
            "|                               |                      |               MIG M. |\n",
            "|===============================+======================+======================|\n",
            "|   0  Tesla T4            Off  | 00000000:00:04.0 Off |                    0 |\n",
            "| N/A   51C    P8    10W /  70W |      0MiB / 15079MiB |      0%      Default |\n",
            "|                               |                      |                 ERR! |\n",
            "+-------------------------------+----------------------+----------------------+\n",
            "                                                                               \n",
            "+-----------------------------------------------------------------------------+\n",
            "| Processes:                                                                  |\n",
            "|  GPU   GI   CI        PID   Type   Process name                  GPU Memory |\n",
            "|        ID   ID                                                   Usage      |\n",
            "|=============================================================================|\n",
            "|  No running processes found                                                 |\n",
            "+-----------------------------------------------------------------------------+\n"
          ],
          "name": "stdout"
        }
      ]
    },
    {
      "cell_type": "code",
      "metadata": {
        "id": "95gzlYvniAPz",
        "colab_type": "code",
        "colab": {
          "base_uri": "https://localhost:8080/",
          "height": 124
        },
        "outputId": "8b1f6895-a4d8-419c-b9db-562d61bf8631"
      },
      "source": [
        "from google.colab import drive\n",
        "drive.mount('/content/gdrive')"
      ],
      "execution_count": 2,
      "outputs": [
        {
          "output_type": "stream",
          "text": [
            "Go to this URL in a browser: https://accounts.google.com/o/oauth2/auth?client_id=947318989803-6bn6qk8qdgf4n4g3pfee6491hc0brc4i.apps.googleusercontent.com&redirect_uri=urn%3aietf%3awg%3aoauth%3a2.0%3aoob&scope=email%20https%3a%2f%2fwww.googleapis.com%2fauth%2fdocs.test%20https%3a%2f%2fwww.googleapis.com%2fauth%2fdrive%20https%3a%2f%2fwww.googleapis.com%2fauth%2fdrive.photos.readonly%20https%3a%2f%2fwww.googleapis.com%2fauth%2fpeopleapi.readonly&response_type=code\n",
            "\n",
            "Enter your authorization code:\n",
            "4/3wEA3d8LWEiuil55sWgg_K1wEvrCYjvvcBs4T8_3Xf85JxcBCtZ77YU\n",
            "Mounted at /content/gdrive\n"
          ],
          "name": "stdout"
        }
      ]
    },
    {
      "cell_type": "code",
      "metadata": {
        "id": "aYrGOUqlURIQ",
        "colab_type": "code",
        "colab": {
          "base_uri": "https://localhost:8080/",
          "height": 329
        },
        "outputId": "3009a063-7484-4208-b191-fb8a76ea4719"
      },
      "source": [
        "!pip install torch==1.5.1+cu92 torchvision==0.6.1+cu92 -f https://download.pytorch.org/whl/torch_stable.html"
      ],
      "execution_count": 3,
      "outputs": [
        {
          "output_type": "stream",
          "text": [
            "Looking in links: https://download.pytorch.org/whl/torch_stable.html\n",
            "Collecting torch==1.5.1+cu92\n",
            "\u001b[?25l  Downloading https://download.pytorch.org/whl/cu92/torch-1.5.1%2Bcu92-cp36-cp36m-linux_x86_64.whl (604.8MB)\n",
            "\u001b[K     |████████████████████████████████| 604.8MB 30kB/s \n",
            "\u001b[?25hCollecting torchvision==0.6.1+cu92\n",
            "\u001b[?25l  Downloading https://download.pytorch.org/whl/cu92/torchvision-0.6.1%2Bcu92-cp36-cp36m-linux_x86_64.whl (6.5MB)\n",
            "\u001b[K     |████████████████████████████████| 6.5MB 28.7MB/s \n",
            "\u001b[?25hRequirement already satisfied: future in /usr/local/lib/python3.6/dist-packages (from torch==1.5.1+cu92) (0.16.0)\n",
            "Requirement already satisfied: numpy in /usr/local/lib/python3.6/dist-packages (from torch==1.5.1+cu92) (1.18.5)\n",
            "Requirement already satisfied: pillow>=4.1.1 in /usr/local/lib/python3.6/dist-packages (from torchvision==0.6.1+cu92) (7.0.0)\n",
            "Installing collected packages: torch, torchvision\n",
            "  Found existing installation: torch 1.6.0+cu101\n",
            "    Uninstalling torch-1.6.0+cu101:\n",
            "      Successfully uninstalled torch-1.6.0+cu101\n",
            "  Found existing installation: torchvision 0.7.0+cu101\n",
            "    Uninstalling torchvision-0.7.0+cu101:\n",
            "      Successfully uninstalled torchvision-0.7.0+cu101\n",
            "Successfully installed torch-1.5.1+cu92 torchvision-0.6.1+cu92\n"
          ],
          "name": "stdout"
        }
      ]
    },
    {
      "cell_type": "code",
      "metadata": {
        "id": "teyHqGVbqdfJ",
        "colab_type": "code",
        "colab": {
          "base_uri": "https://localhost:8080/",
          "height": 35
        },
        "outputId": "c6b48066-08c1-47d7-8ee9-30d7ba7679db"
      },
      "source": [
        "import warnings\n",
        "warnings.filterwarnings('ignore')\n",
        "import zipfile\n",
        "from zipfile import ZipFile\n",
        "from pathlib import Path\n",
        "from time import time\n",
        "from datetime import datetime \n",
        "from __future__ import print_function\n",
        "import torch\n",
        "import torchvision\n",
        "from torchvision import transforms\n",
        "from torch.utils.data import DataLoader, Dataset\n",
        "import torch.nn as nn\n",
        "import torch.nn.functional as F\n",
        "import torch.optim as optim\n",
        "import numpy as np\n",
        "from tqdm import tqdm\n",
        "from PIL import Image\n",
        "from tqdm import tqdm_notebook\n",
        "import matplotlib.pyplot as plt\n",
        "from matplotlib.pyplot import imshow, imsave\n",
        "import cv2\n",
        "import pkgutil\n",
        "import importlib\n",
        "import os\n",
        "import random\n",
        "%matplotlib inline\n",
        "%config IPCompleter.greedy=True\n",
        "%reload_ext autoreload\n",
        "import io\n",
        "import skimage\n",
        "from skimage.transform import resize\n",
        "from itertools import groupby\n",
        "from tqdm.auto import tqdm\n",
        "import gc\n",
        "import seaborn as sns\n",
        "sns.set()\n",
        "print('Pytorch version:', torch.__version__)"
      ],
      "execution_count": 4,
      "outputs": [
        {
          "output_type": "stream",
          "text": [
            "Pytorch version: 1.5.1+cu92\n"
          ],
          "name": "stdout"
        }
      ]
    },
    {
      "cell_type": "code",
      "metadata": {
        "id": "P40u7NqXi5K5",
        "colab_type": "code",
        "colab": {
          "base_uri": "https://localhost:8080/",
          "height": 52
        },
        "outputId": "f5241d9d-e71d-486f-bb78-4c57712ea1fb"
      },
      "source": [
        "%%time\n",
        "from zipfile import ZipFile\n",
        "with ZipFile('/content/gdrive/My Drive/EVA4P2_S6_Zipdataset/EVA4P2_S6_GAN_Cars_Size32.zip', mode='r') as input:\n",
        "  input.extractall('.')"
      ],
      "execution_count": 5,
      "outputs": [
        {
          "output_type": "stream",
          "text": [
            "CPU times: user 31.1 ms, sys: 12.9 ms, total: 43.9 ms\n",
            "Wall time: 818 ms\n"
          ],
          "name": "stdout"
        }
      ]
    },
    {
      "cell_type": "code",
      "metadata": {
        "id": "Ewsj1xrVj6TN",
        "colab_type": "code",
        "colab": {}
      },
      "source": [
        "def prepare_data(root, classes):\n",
        "  finaldata = []\n",
        "  for i in range(len(classes)):\n",
        "    path = root + '/' + classes[i] + '/'\n",
        "    data_rec = [(path+file_name, i) for file_name in os.listdir(path)]\n",
        "    finaldata.extend(data_rec) \n",
        "  random.shuffle(finaldata)\n",
        "  return finaldata"
      ],
      "execution_count": 6,
      "outputs": []
    },
    {
      "cell_type": "code",
      "metadata": {
        "id": "6294l44Rqzcc",
        "colab_type": "code",
        "colab": {}
      },
      "source": [
        "class_list       = [0]\n",
        "class_names_dict = {0:'Cars'}\n",
        "class_names      = ['Cars']"
      ],
      "execution_count": 7,
      "outputs": []
    },
    {
      "cell_type": "code",
      "metadata": {
        "id": "iETGFw_-kgAG",
        "colab_type": "code",
        "colab": {
          "base_uri": "https://localhost:8080/",
          "height": 35
        },
        "outputId": "6d11b5b2-660e-459e-b0f6-b7afdf9e30b8"
      },
      "source": [
        "dataset          = prepare_data('/content/Data',class_names)\n",
        "print(f'Dataset Length:{len(dataset)}, Train Data length: {int(len(dataset)*1)}') \n",
        "train_len = int(len(dataset)*1)"
      ],
      "execution_count": 8,
      "outputs": [
        {
          "output_type": "stream",
          "text": [
            "Dataset Length:482, Train Data length: 482\n"
          ],
          "name": "stdout"
        }
      ]
    },
    {
      "cell_type": "code",
      "metadata": {
        "id": "lyvhqNrUUfft",
        "colab_type": "code",
        "colab": {
          "base_uri": "https://localhost:8080/",
          "height": 139
        },
        "outputId": "516dc46b-429d-4104-9f91-d795f46b5755"
      },
      "source": [
        "# Copying the code from github to colab\n",
        "os.chdir('/content/')\n",
        "!git clone https://github.com/anilbhatt1/Deep_Learning_EVA4_Phase2"
      ],
      "execution_count": 9,
      "outputs": [
        {
          "output_type": "stream",
          "text": [
            "Cloning into 'Deep_Learning_EVA4_Phase2'...\n",
            "remote: Enumerating objects: 4, done.\u001b[K\n",
            "remote: Counting objects: 100% (4/4), done.\u001b[K\n",
            "remote: Compressing objects: 100% (4/4), done.\u001b[K\n",
            "remote: Total 613 (delta 0), reused 0 (delta 0), pack-reused 609\u001b[K\n",
            "Receiving objects: 100% (613/613), 21.81 MiB | 34.20 MiB/s, done.\n",
            "Resolving deltas: 100% (323/323), done.\n"
          ],
          "name": "stdout"
        }
      ]
    },
    {
      "cell_type": "code",
      "metadata": {
        "id": "NX_yP0dQUj02",
        "colab_type": "code",
        "colab": {
          "base_uri": "https://localhost:8080/",
          "height": 52
        },
        "outputId": "79c47554-66be-4b80-db26-0f83ae9186c2"
      },
      "source": [
        "%cd '/content/Deep_Learning_EVA4_Phase2/S6_GAN'\n",
        "! ls"
      ],
      "execution_count": 10,
      "outputs": [
        {
          "output_type": "stream",
          "text": [
            "/content/Deep_Learning_EVA4_Phase2/S6_GAN\n",
            "EVA4P2_S6_GAN_V3.ipynb\tREADME.md  src\n"
          ],
          "name": "stdout"
        }
      ]
    },
    {
      "cell_type": "code",
      "metadata": {
        "id": "7Ly1BVxUUdHI",
        "colab_type": "code",
        "colab": {}
      },
      "source": [
        "os.chdir('/content/Deep_Learning_EVA4_Phase2/S6_GAN/')\n",
        "import src\n",
        "from src.dataset import datatransforms as dtf\n",
        "from src.dataset import customdataset as cds\n",
        "from src.dataset import Alb_data_transforms as Alb\n",
        "from src.losses  import Train_Losses\n",
        "from src.losses  import Test_Losses"
      ],
      "execution_count": 11,
      "outputs": []
    },
    {
      "cell_type": "code",
      "metadata": {
        "id": "911SnBAUeXty",
        "colab_type": "code",
        "colab": {}
      },
      "source": [
        "import albumentations as A\n",
        "channel_means  = (0.48043839, 0.44820218, 0.39760034)\n",
        "channel_stdevs = (0.27698959, 0.26908774, 0.28216029)\n",
        "# Train Phase transformations\n",
        "train_transforms = Alb.Albumentations_transform([\n",
        "                                      A.Resize(32, 32),\n",
        "                                      A.Normalize(mean=channel_means, std=channel_stdevs),\n",
        "                                    ])\n",
        "\n",
        "# Output transformations\n",
        "output_transforms = Alb.Albumentations_transform([A.Resize(100, 100),])"
      ],
      "execution_count": 12,
      "outputs": []
    },
    {
      "cell_type": "code",
      "metadata": {
        "id": "w284mZobFQU_",
        "colab_type": "code",
        "colab": {
          "base_uri": "https://localhost:8080/",
          "height": 35
        },
        "outputId": "5b15569c-99f5-4861-c79f-77b46d69b823"
      },
      "source": [
        "train = cds.Customdataset(dataset[:train_len],train_transforms)\n",
        "print(f'Train Length {len(train)}')"
      ],
      "execution_count": 13,
      "outputs": [
        {
          "output_type": "stream",
          "text": [
            "Train Length 482\n"
          ],
          "name": "stdout"
        }
      ]
    },
    {
      "cell_type": "code",
      "metadata": {
        "id": "Vj-zanqlGs8G",
        "colab_type": "code",
        "colab": {}
      },
      "source": [
        "train_loader  = DataLoader(train, batch_size = 32,shuffle = True, num_workers=4, pin_memory = True)"
      ],
      "execution_count": 14,
      "outputs": []
    },
    {
      "cell_type": "code",
      "metadata": {
        "id": "lJmuNR5wsLNg",
        "colab_type": "code",
        "colab": {}
      },
      "source": [
        "def unnormalize(img):\n",
        "  img = img.cpu().numpy().astype(dtype=np.float32)\n",
        "  #print(img.shape)\n",
        "  for i in range(img.shape[0]):\n",
        "    img[i] = (img[i]*channel_stdevs[i]) + channel_means[i]\n",
        "  return np.transpose(img, (1,2,0))"
      ],
      "execution_count": 15,
      "outputs": []
    },
    {
      "cell_type": "code",
      "metadata": {
        "id": "PhyUjUybsOAt",
        "colab_type": "code",
        "colab": {}
      },
      "source": [
        "dataiter = iter(train_loader)"
      ],
      "execution_count": 16,
      "outputs": []
    },
    {
      "cell_type": "code",
      "metadata": {
        "id": "tMi3i9NwsQdB",
        "colab_type": "code",
        "colab": {
          "base_uri": "https://localhost:8080/",
          "height": 936
        },
        "outputId": "ceecdebf-32a3-4336-8abc-e9fe24deeb95"
      },
      "source": [
        "images, labels = dataiter.next()\n",
        "print(f'To check if images are coming out correctly as batches, images.shape: {images.shape}, labels.shape: {labels.shape}')\n",
        "num_classes = len(class_names)\n",
        "r, c = 5, 5\n",
        "fig = plt.figure(figsize=(14,14))\n",
        "fig.subplots_adjust(hspace=0.01, wspace=0.3)\n",
        "for i in range(r):\n",
        "  for j in range(c):\n",
        "    idx = i*c + j\n",
        "    ax  = plt.subplot(r,c, idx + 1)\n",
        "    ax.set_title(class_names[labels[idx]][:30], fontdict={'fontsize':8})\n",
        "    plt.axis('off')\n",
        "    ax.imshow(unnormalize(images[idx]), interpolation ='none')\n",
        "plt.show() "
      ],
      "execution_count": 17,
      "outputs": [
        {
          "output_type": "stream",
          "text": [
            "Clipping input data to the valid range for imshow with RGB data ([0..1] for floats or [0..255] for integers).\n",
            "Clipping input data to the valid range for imshow with RGB data ([0..1] for floats or [0..255] for integers).\n",
            "Clipping input data to the valid range for imshow with RGB data ([0..1] for floats or [0..255] for integers).\n",
            "Clipping input data to the valid range for imshow with RGB data ([0..1] for floats or [0..255] for integers).\n",
            "Clipping input data to the valid range for imshow with RGB data ([0..1] for floats or [0..255] for integers).\n",
            "Clipping input data to the valid range for imshow with RGB data ([0..1] for floats or [0..255] for integers).\n"
          ],
          "name": "stderr"
        },
        {
          "output_type": "stream",
          "text": [
            "To check if images are coming out correctly as batches, images.shape: torch.Size([32, 3, 32, 32]), labels.shape: torch.Size([32])\n"
          ],
          "name": "stdout"
        },
        {
          "output_type": "stream",
          "text": [
            "Clipping input data to the valid range for imshow with RGB data ([0..1] for floats or [0..255] for integers).\n",
            "Clipping input data to the valid range for imshow with RGB data ([0..1] for floats or [0..255] for integers).\n"
          ],
          "name": "stderr"
        },
        {
          "output_type": "display_data",
          "data": {
            "image/png": "[encoded data removed]",
            "text/plain": [
              "<Figure size 1008x1008 with 25 Axes>"
            ]
          },
          "metadata": {
            "tags": []
          }
        }
      ]
    },
    {
      "cell_type": "code",
      "metadata": {
        "id": "EsUvRBG7IUzS",
        "colab_type": "code",
        "colab": {}
      },
      "source": [
        "MODEL_NAME = 'DCGAN'\n",
        "DEVICE = torch.device(\"cuda:0\" if torch.cuda.is_available() else \"cpu\")"
      ],
      "execution_count": 18,
      "outputs": []
    },
    {
      "cell_type": "code",
      "metadata": {
        "id": "lPaXQfcoIXIB",
        "colab_type": "code",
        "colab": {}
      },
      "source": [
        "IMAGE_DIM = (32, 32, 3)"
      ],
      "execution_count": 19,
      "outputs": []
    },
    {
      "cell_type": "code",
      "metadata": {
        "id": "_ozG_9UWIXpx",
        "colab_type": "code",
        "colab": {}
      },
      "source": [
        "def get_sample_image(G, n_noise):\n",
        "    \"\"\"\n",
        "        save sample 10 images\n",
        "    \"\"\"\n",
        "    z = torch.randn(10, n_noise).to(DEVICE)\n",
        "    y_hat_prev = G(z)\n",
        "    y_hat = G(z).view(10, 3, 32, 32).permute(0, 2, 3, 1)    #Modify axes to (10, 28, 28, 3) via permute\n",
        "    result = (y_hat.detach().cpu().numpy()+1)/2.\n",
        "    return result"
      ],
      "execution_count": 20,
      "outputs": []
    },
    {
      "cell_type": "code",
      "metadata": {
        "id": "EnaV2o42IZka",
        "colab_type": "code",
        "colab": {}
      },
      "source": [
        "class Discriminator(nn.Module):\n",
        "    def __init__(self, in_channel=1, num_classes=1):\n",
        "        super(Discriminator, self).__init__()\n",
        "        self.conv = nn.Sequential(\n",
        "            # 28 -> 14\n",
        "            nn.Conv2d(in_channel, 512, 3, stride=2, padding=1, bias=False),\n",
        "            nn.BatchNorm2d(512),\n",
        "            nn.LeakyReLU(0.2),\n",
        "            # 14 -> 7\n",
        "            nn.Conv2d(512, 256, 3, stride=2, padding=1, bias=False),\n",
        "            nn.BatchNorm2d(256),\n",
        "            nn.LeakyReLU(0.2),\n",
        "            # 7 -> 4\n",
        "            nn.Conv2d(256, 128, 3, stride=2, padding=1, bias=False),\n",
        "            nn.BatchNorm2d(128),\n",
        "            nn.LeakyReLU(0.2),\n",
        "            # \n",
        "            nn.Conv2d(128, 128, 3, stride=2, padding=1, bias=False),\n",
        "            nn.BatchNorm2d(128),\n",
        "            nn.LeakyReLU(0.2),\n",
        "            nn.AdaptiveAvgPool2d(1),\n",
        "        )        \n",
        "        self.fc = nn.Sequential(\n",
        "            # reshape input, 128 -> 1\n",
        "            nn.Linear(128, 1),\n",
        "            nn.Sigmoid(),\n",
        "        )\n",
        "    \n",
        "    def forward(self, x, y=None):\n",
        "        y_ = self.conv(x)\n",
        "        y_ = y_.view(y_.size(0), -1)\n",
        "        y_ = self.fc(y_)\n",
        "        return y_"
      ],
      "execution_count": 21,
      "outputs": []
    },
    {
      "cell_type": "code",
      "metadata": {
        "id": "x6I_AdMtIefR",
        "colab_type": "code",
        "colab": {}
      },
      "source": [
        "class Generator(nn.Module):\n",
        "    def __init__(self, out_channel=1, input_size=100, num_classes=784):\n",
        "        super(Generator, self).__init__()\n",
        "        assert IMAGE_DIM[0] % 2**4 == 0, 'Should be divided 16'\n",
        "        self.init_dim = (IMAGE_DIM[0] // 2**4, IMAGE_DIM[1] // 2**4)\n",
        "        self.fc = nn.Sequential(\n",
        "            nn.Linear(input_size, self.init_dim[0]*self.init_dim[1]*512),\n",
        "            nn.ReLU(),\n",
        "        ) # 100 -> 2048\n",
        "        self.conv = nn.Sequential(\n",
        "            nn.Conv2d(512, 512, 3, padding=1, bias=False),\n",
        "            nn.BatchNorm2d(512),\n",
        "            nn.ReLU(),\n",
        "            # 2048 -> 2x2x512    \n",
        "            nn.ConvTranspose2d(512, 256, 4, stride=2, padding=1, bias=False),\n",
        "            nn.BatchNorm2d(256),\n",
        "            nn.ReLU(),\n",
        "            # 2x2x512 -> 4x4x256\n",
        "            nn.ConvTranspose2d(256, 128, 4, stride=2, padding=1, bias=False),\n",
        "            nn.BatchNorm2d(128),\n",
        "            nn.ReLU(),\n",
        "            # 4x4x256 -> 8x8x128\n",
        "            nn.ConvTranspose2d(128, 128, 4, stride=2, padding=1, bias=False),\n",
        "            nn.BatchNorm2d(128),\n",
        "            nn.ReLU(),\n",
        "            # 8x8x128 -> 16x16x128                       \n",
        "            nn.ConvTranspose2d(128, out_channel, 4, stride=2, padding=1, bias=False),\n",
        "            # 16x16x128 -> 32x32x3\n",
        "            nn.Tanh(),\n",
        "        )\n",
        "        \n",
        "    def forward(self, x, y=None):\n",
        "        x = x.view(x.size(0), -1)\n",
        "        y_ = self.fc(x)\n",
        "        y_ = y_.view(y_.size(0), 512, self.init_dim[0], self.init_dim[1])\n",
        "        y_ = self.conv(y_)\n",
        "        return y_"
      ],
      "execution_count": 22,
      "outputs": []
    },
    {
      "cell_type": "code",
      "metadata": {
        "id": "EoWSIIiWqsl5",
        "colab_type": "code",
        "colab": {}
      },
      "source": [
        "use_cuda = torch.cuda.is_available()\n",
        "DEVICE = torch.device(\"cuda\" if use_cuda else \"cpu\")"
      ],
      "execution_count": 23,
      "outputs": []
    },
    {
      "cell_type": "code",
      "metadata": {
        "id": "Fp0gm1ioIjA5",
        "colab_type": "code",
        "colab": {}
      },
      "source": [
        "D = Discriminator(in_channel=IMAGE_DIM[-1]).to(DEVICE)\n",
        "G = Generator(out_channel=IMAGE_DIM[-1]).to(DEVICE)"
      ],
      "execution_count": 24,
      "outputs": []
    },
    {
      "cell_type": "code",
      "metadata": {
        "id": "TtFPsxKl6nfZ",
        "colab_type": "code",
        "colab": {
          "base_uri": "https://localhost:8080/",
          "height": 35
        },
        "outputId": "206e6eaf-f1ba-48a5-8118-d73892e4a80e"
      },
      "source": [
        "!pip install torchsummary\n",
        "from torchsummary import summary"
      ],
      "execution_count": 25,
      "outputs": [
        {
          "output_type": "stream",
          "text": [
            "Requirement already satisfied: torchsummary in /usr/local/lib/python3.6/dist-packages (1.5.1)\n"
          ],
          "name": "stdout"
        }
      ]
    },
    {
      "cell_type": "code",
      "metadata": {
        "id": "aRZwSWmL8p_h",
        "colab_type": "code",
        "colab": {
          "base_uri": "https://localhost:8080/",
          "height": 503
        },
        "outputId": "68348450-9a69-4077-e841-ad40c9fd9b7a"
      },
      "source": [
        "summary(D, input_size=(3, 32, 32))"
      ],
      "execution_count": 26,
      "outputs": [
        {
          "output_type": "stream",
          "text": [
            "----------------------------------------------------------------\n",
            "        Layer (type)               Output Shape         Param #\n",
            "================================================================\n",
            "            Conv2d-1          [-1, 512, 16, 16]          13,824\n",
            "       BatchNorm2d-2          [-1, 512, 16, 16]           1,024\n",
            "         LeakyReLU-3          [-1, 512, 16, 16]               0\n",
            "            Conv2d-4            [-1, 256, 8, 8]       1,179,648\n",
            "       BatchNorm2d-5            [-1, 256, 8, 8]             512\n",
            "         LeakyReLU-6            [-1, 256, 8, 8]               0\n",
            "            Conv2d-7            [-1, 128, 4, 4]         294,912\n",
            "       BatchNorm2d-8            [-1, 128, 4, 4]             256\n",
            "         LeakyReLU-9            [-1, 128, 4, 4]               0\n",
            "           Conv2d-10            [-1, 128, 2, 2]         147,456\n",
            "      BatchNorm2d-11            [-1, 128, 2, 2]             256\n",
            "        LeakyReLU-12            [-1, 128, 2, 2]               0\n",
            "AdaptiveAvgPool2d-13            [-1, 128, 1, 1]               0\n",
            "           Linear-14                    [-1, 1]             129\n",
            "          Sigmoid-15                    [-1, 1]               0\n",
            "================================================================\n",
            "Total params: 1,638,017\n",
            "Trainable params: 1,638,017\n",
            "Non-trainable params: 0\n",
            "----------------------------------------------------------------\n",
            "Input size (MB): 0.01\n",
            "Forward/backward pass size (MB): 3.43\n",
            "Params size (MB): 6.25\n",
            "Estimated Total Size (MB): 9.69\n",
            "----------------------------------------------------------------\n"
          ],
          "name": "stdout"
        }
      ]
    },
    {
      "cell_type": "code",
      "metadata": {
        "id": "27JSGPT_80Ge",
        "colab_type": "code",
        "colab": {
          "base_uri": "https://localhost:8080/",
          "height": 520
        },
        "outputId": "aa08bf8d-5262-4df8-8c70-41e1f6ce8bfe"
      },
      "source": [
        "summary(G, input_size=(1,100))"
      ],
      "execution_count": 27,
      "outputs": [
        {
          "output_type": "stream",
          "text": [
            "----------------------------------------------------------------\n",
            "        Layer (type)               Output Shape         Param #\n",
            "================================================================\n",
            "            Linear-1                 [-1, 2048]         206,848\n",
            "              ReLU-2                 [-1, 2048]               0\n",
            "            Conv2d-3            [-1, 512, 2, 2]       2,359,296\n",
            "       BatchNorm2d-4            [-1, 512, 2, 2]           1,024\n",
            "              ReLU-5            [-1, 512, 2, 2]               0\n",
            "   ConvTranspose2d-6            [-1, 256, 4, 4]       2,097,152\n",
            "       BatchNorm2d-7            [-1, 256, 4, 4]             512\n",
            "              ReLU-8            [-1, 256, 4, 4]               0\n",
            "   ConvTranspose2d-9            [-1, 128, 8, 8]         524,288\n",
            "      BatchNorm2d-10            [-1, 128, 8, 8]             256\n",
            "             ReLU-11            [-1, 128, 8, 8]               0\n",
            "  ConvTranspose2d-12          [-1, 128, 16, 16]         262,144\n",
            "      BatchNorm2d-13          [-1, 128, 16, 16]             256\n",
            "             ReLU-14          [-1, 128, 16, 16]               0\n",
            "  ConvTranspose2d-15            [-1, 3, 32, 32]           6,144\n",
            "             Tanh-16            [-1, 3, 32, 32]               0\n",
            "================================================================\n",
            "Total params: 5,457,920\n",
            "Trainable params: 5,457,920\n",
            "Non-trainable params: 0\n",
            "----------------------------------------------------------------\n",
            "Input size (MB): 0.00\n",
            "Forward/backward pass size (MB): 1.16\n",
            "Params size (MB): 20.82\n",
            "Estimated Total Size (MB): 21.98\n",
            "----------------------------------------------------------------\n"
          ],
          "name": "stdout"
        }
      ]
    },
    {
      "cell_type": "code",
      "metadata": {
        "id": "1fdrhxOLIrux",
        "colab_type": "code",
        "colab": {}
      },
      "source": [
        "criterion = nn.BCELoss()\n",
        "D_opt = torch.optim.Adam(D.parameters(), lr=0.001, betas=(0.5, 0.999))\n",
        "G_opt = torch.optim.Adam(G.parameters(), lr=0.001, betas=(0.5, 0.999))"
      ],
      "execution_count": 28,
      "outputs": []
    },
    {
      "cell_type": "code",
      "metadata": {
        "id": "1tHnE-88IxFZ",
        "colab_type": "code",
        "colab": {}
      },
      "source": [
        "max_epoch = 100\n",
        "step = 0\n",
        "n_critic = 1 # for training more k steps about Discriminator\n",
        "n_noise = 100\n",
        "batch_size = 32"
      ],
      "execution_count": 29,
      "outputs": []
    },
    {
      "cell_type": "code",
      "metadata": {
        "id": "UAmWM_ZNI1cj",
        "colab_type": "code",
        "colab": {
          "base_uri": "https://localhost:8080/",
          "height": 1000
        },
        "outputId": "4fea810b-7614-4085-f7e6-ff834ebd101d"
      },
      "source": [
        "for epoch in range(max_epoch):\n",
        "\n",
        "    D_labels = torch.ones([batch_size, 1]).to(DEVICE) # Discriminator Label to real\n",
        "    D_fakes = torch.zeros([batch_size, 1]).to(DEVICE) # Discriminator Label to fake\n",
        "    last_batch = 0\n",
        "\n",
        "    for idx, images in enumerate(train_loader):\n",
        "        # Training Discriminator\n",
        "        if int(images[0].shape[0]) < int(batch_size):\n",
        "            D_labels = torch.ones([images[0].shape[0], 1]).to(DEVICE)  # Discriminator Label to real\n",
        "            D_fakes  = torch.zeros([images[0].shape[0], 1]).to(DEVICE) # Discriminator Label to fake   \n",
        "            last_batch = 1\n",
        "\n",
        "        x = images[0].to(DEVICE)\n",
        "        x_outputs = D(x)\n",
        "        D_x_loss = criterion(x_outputs, D_labels)\n",
        "\n",
        "        if int(images[0].shape[0]) < int(batch_size):\n",
        "            z = torch.randn(images[0].shape[0], n_noise).to(DEVICE)\n",
        "        else:                   \n",
        "            z = torch.randn(batch_size, n_noise).to(DEVICE)\n",
        "\n",
        "        z_outputs = D(G(z))\n",
        "        D_z_loss = criterion(z_outputs, D_fakes)\n",
        "        D_loss = D_x_loss + D_z_loss\n",
        "        \n",
        "        D.zero_grad()\n",
        "        D_loss.backward()\n",
        "        D_opt.step()\n",
        "\n",
        "        if step % n_critic == 0:\n",
        "            # Training Generator\n",
        "            if int(images[0].shape[0]) < int(batch_size):\n",
        "               z = torch.randn(images[0].shape[0], n_noise).to(DEVICE)\n",
        "            else:                   \n",
        "               z = torch.randn(batch_size, n_noise).to(DEVICE)\n",
        "            z_outputs = D(G(z))\n",
        "            G_loss = criterion(z_outputs, D_labels)\n",
        "\n",
        "            D.zero_grad()\n",
        "            G.zero_grad()\n",
        "            G_loss.backward()\n",
        "            G_opt.step()\n",
        "        \n",
        "        if step % 6 == 0: \n",
        "            print(f'Epoch: {epoch+1}/{max_epoch}, Step: {step}, D Loss: {D_loss.item():.6f}, G Loss: {G_loss.item():.6f}')\n",
        "            G.eval()\n",
        "            img = get_sample_image(G, n_noise)\n",
        "            t = datetime.now()\n",
        "            time_stamp = t.strftime(\"%Y\")+t.strftime(\"%m\")+t.strftime(\"%d\")+t.strftime(\"%H\")+t.strftime(\"%M\")+t.strftime(\"%S\")\n",
        "            imsave(f'/content/gdrive/My Drive/EVA4P2_S6_Training/Images_Size32/DCGAN_{epoch+1}_{step:05d}_{time_stamp}.jpg', img[0])\n",
        "            G.train()\n",
        "        step += 1  "
      ],
      "execution_count": 31,
      "outputs": [
        {
          "output_type": "stream",
          "text": [
            "Epoch: 1/100, Step: 0, D Loss: 1.396327, G Loss: 0.712544\n",
            "Epoch: 1/100, Step: 6, D Loss: 1.286782, G Loss: 0.828430\n",
            "Epoch: 1/100, Step: 12, D Loss: 1.174635, G Loss: 0.890142\n",
            "Epoch: 2/100, Step: 18, D Loss: 1.147986, G Loss: 0.901187\n",
            "Epoch: 2/100, Step: 24, D Loss: 0.987306, G Loss: 1.019243\n",
            "Epoch: 2/100, Step: 30, D Loss: 0.873252, G Loss: 1.111792\n",
            "Epoch: 3/100, Step: 36, D Loss: 0.788179, G Loss: 1.168371\n",
            "Epoch: 3/100, Step: 42, D Loss: 0.853897, G Loss: 1.221554\n",
            "Epoch: 4/100, Step: 48, D Loss: 0.675677, G Loss: 1.278539\n",
            "Epoch: 4/100, Step: 54, D Loss: 0.550788, G Loss: 1.449371\n",
            "Epoch: 4/100, Step: 60, D Loss: 0.552077, G Loss: 1.525200\n",
            "Epoch: 5/100, Step: 66, D Loss: 0.671223, G Loss: 1.392306\n",
            "Epoch: 5/100, Step: 72, D Loss: 0.492733, G Loss: 1.559063\n",
            "Epoch: 5/100, Step: 78, D Loss: 0.528013, G Loss: 1.559040\n",
            "Epoch: 6/100, Step: 84, D Loss: 0.514969, G Loss: 1.614290\n",
            "Epoch: 6/100, Step: 90, D Loss: 0.394352, G Loss: 1.733059\n",
            "Epoch: 7/100, Step: 96, D Loss: 1.005940, G Loss: 1.331926\n",
            "Epoch: 7/100, Step: 102, D Loss: 0.444099, G Loss: 1.771958\n",
            "Epoch: 7/100, Step: 108, D Loss: 0.454150, G Loss: 1.809926\n",
            "Epoch: 8/100, Step: 114, D Loss: 0.468549, G Loss: 1.834058\n",
            "Epoch: 8/100, Step: 120, D Loss: 0.315996, G Loss: 2.010019\n",
            "Epoch: 8/100, Step: 126, D Loss: 0.384556, G Loss: 1.868457\n",
            "Epoch: 9/100, Step: 132, D Loss: 0.460715, G Loss: 1.677481\n",
            "Epoch: 9/100, Step: 138, D Loss: 0.393222, G Loss: 1.871690\n",
            "Epoch: 10/100, Step: 144, D Loss: 0.760044, G Loss: 1.665443\n",
            "Epoch: 10/100, Step: 150, D Loss: 1.062362, G Loss: 1.355812\n",
            "Epoch: 10/100, Step: 156, D Loss: 0.497669, G Loss: 1.951384\n",
            "Epoch: 11/100, Step: 162, D Loss: 0.439342, G Loss: 1.861374\n",
            "Epoch: 11/100, Step: 168, D Loss: 0.481590, G Loss: 1.896401\n",
            "Epoch: 11/100, Step: 174, D Loss: 0.596954, G Loss: 2.101749\n",
            "Epoch: 12/100, Step: 180, D Loss: 0.704716, G Loss: 1.746022\n",
            "Epoch: 12/100, Step: 186, D Loss: 0.523997, G Loss: 1.960140\n",
            "Epoch: 13/100, Step: 192, D Loss: 0.668459, G Loss: 1.405795\n",
            "Epoch: 13/100, Step: 198, D Loss: 0.973635, G Loss: 1.278255\n",
            "Epoch: 13/100, Step: 204, D Loss: 0.594723, G Loss: 1.604395\n",
            "Epoch: 14/100, Step: 210, D Loss: 0.801681, G Loss: 1.357887\n",
            "Epoch: 14/100, Step: 216, D Loss: 1.453575, G Loss: 1.569188\n",
            "Epoch: 14/100, Step: 222, D Loss: 0.921392, G Loss: 1.589640\n",
            "Epoch: 15/100, Step: 228, D Loss: 0.913710, G Loss: 1.358122\n",
            "Epoch: 15/100, Step: 234, D Loss: 0.814372, G Loss: 1.578433\n",
            "Epoch: 16/100, Step: 240, D Loss: 0.853327, G Loss: 1.303628\n",
            "Epoch: 16/100, Step: 246, D Loss: 1.384524, G Loss: 1.829376\n",
            "Epoch: 16/100, Step: 252, D Loss: 0.950480, G Loss: 1.163071\n",
            "Epoch: 17/100, Step: 258, D Loss: 1.355714, G Loss: 1.497054\n",
            "Epoch: 17/100, Step: 264, D Loss: 1.118342, G Loss: 1.052946\n",
            "Epoch: 17/100, Step: 270, D Loss: 1.080364, G Loss: 1.399665\n",
            "Epoch: 18/100, Step: 276, D Loss: 1.031379, G Loss: 0.705446\n",
            "Epoch: 18/100, Step: 282, D Loss: 0.876224, G Loss: 1.324935\n",
            "Epoch: 19/100, Step: 288, D Loss: 0.891125, G Loss: 1.634710\n",
            "Epoch: 19/100, Step: 294, D Loss: 1.065256, G Loss: 1.018883\n",
            "Epoch: 19/100, Step: 300, D Loss: 1.001649, G Loss: 1.471225\n",
            "Epoch: 20/100, Step: 306, D Loss: 0.930217, G Loss: 1.387562\n",
            "Epoch: 20/100, Step: 312, D Loss: 0.846306, G Loss: 1.378594\n",
            "Epoch: 20/100, Step: 318, D Loss: 0.908075, G Loss: 1.560394\n",
            "Epoch: 21/100, Step: 324, D Loss: 1.263273, G Loss: 1.399263\n",
            "Epoch: 21/100, Step: 330, D Loss: 0.980647, G Loss: 1.609793\n",
            "Epoch: 22/100, Step: 336, D Loss: 1.246726, G Loss: 0.900519\n",
            "Epoch: 22/100, Step: 342, D Loss: 0.841716, G Loss: 1.679238\n",
            "Epoch: 22/100, Step: 348, D Loss: 0.772167, G Loss: 1.374387\n",
            "Epoch: 23/100, Step: 354, D Loss: 0.979673, G Loss: 1.480786\n",
            "Epoch: 23/100, Step: 360, D Loss: 0.642498, G Loss: 1.771707\n",
            "Epoch: 23/100, Step: 366, D Loss: 0.595572, G Loss: 1.871264\n",
            "Epoch: 24/100, Step: 372, D Loss: 0.565583, G Loss: 1.744394\n",
            "Epoch: 24/100, Step: 378, D Loss: 0.740548, G Loss: 1.370184\n",
            "Epoch: 25/100, Step: 384, D Loss: 0.963988, G Loss: 1.663747\n",
            "Epoch: 25/100, Step: 390, D Loss: 0.836101, G Loss: 1.821066\n",
            "Epoch: 25/100, Step: 396, D Loss: 0.699117, G Loss: 1.749390\n",
            "Epoch: 26/100, Step: 402, D Loss: 1.105756, G Loss: 1.692919\n",
            "Epoch: 26/100, Step: 408, D Loss: 1.135392, G Loss: 1.628952\n",
            "Epoch: 26/100, Step: 414, D Loss: 0.845876, G Loss: 1.681814\n",
            "Epoch: 27/100, Step: 420, D Loss: 0.750132, G Loss: 1.373006\n",
            "Epoch: 27/100, Step: 426, D Loss: 0.968910, G Loss: 1.803879\n",
            "Epoch: 28/100, Step: 432, D Loss: 0.998563, G Loss: 1.535801\n",
            "Epoch: 28/100, Step: 438, D Loss: 0.762493, G Loss: 1.483302\n",
            "Epoch: 28/100, Step: 444, D Loss: 1.435838, G Loss: 1.216295\n",
            "Epoch: 29/100, Step: 450, D Loss: 0.891410, G Loss: 1.887946\n",
            "Epoch: 29/100, Step: 456, D Loss: 0.840376, G Loss: 1.627849\n",
            "Epoch: 29/100, Step: 462, D Loss: 0.778621, G Loss: 2.023150\n",
            "Epoch: 30/100, Step: 468, D Loss: 0.876183, G Loss: 1.907236\n",
            "Epoch: 30/100, Step: 474, D Loss: 0.934875, G Loss: 1.635934\n",
            "Epoch: 31/100, Step: 480, D Loss: 0.654356, G Loss: 1.660889\n",
            "Epoch: 31/100, Step: 486, D Loss: 0.389605, G Loss: 1.819205\n",
            "Epoch: 31/100, Step: 492, D Loss: 0.336845, G Loss: 2.146037\n",
            "Epoch: 32/100, Step: 498, D Loss: 0.466765, G Loss: 1.818923\n",
            "Epoch: 32/100, Step: 504, D Loss: 0.332257, G Loss: 2.335017\n",
            "Epoch: 32/100, Step: 510, D Loss: 0.694251, G Loss: 2.018251\n",
            "Epoch: 33/100, Step: 516, D Loss: 0.670804, G Loss: 1.924813\n",
            "Epoch: 33/100, Step: 522, D Loss: 0.337967, G Loss: 1.997930\n",
            "Epoch: 34/100, Step: 528, D Loss: 1.045807, G Loss: 2.058181\n",
            "Epoch: 34/100, Step: 534, D Loss: 0.869371, G Loss: 1.449268\n",
            "Epoch: 34/100, Step: 540, D Loss: 0.792192, G Loss: 2.405001\n",
            "Epoch: 35/100, Step: 546, D Loss: 1.595439, G Loss: 1.531266\n",
            "Epoch: 35/100, Step: 552, D Loss: 1.012137, G Loss: 0.883877\n",
            "Epoch: 35/100, Step: 558, D Loss: 1.115146, G Loss: 1.231247\n",
            "Epoch: 36/100, Step: 564, D Loss: 1.297581, G Loss: 1.661076\n",
            "Epoch: 36/100, Step: 570, D Loss: 0.880375, G Loss: 0.976241\n",
            "Epoch: 37/100, Step: 576, D Loss: 0.948282, G Loss: 1.114167\n",
            "Epoch: 37/100, Step: 582, D Loss: 1.069529, G Loss: 1.451658\n",
            "Epoch: 37/100, Step: 588, D Loss: 0.668832, G Loss: 1.335068\n",
            "Epoch: 38/100, Step: 594, D Loss: 1.214239, G Loss: 1.127466\n",
            "Epoch: 38/100, Step: 600, D Loss: 1.212211, G Loss: 1.773105\n",
            "Epoch: 38/100, Step: 606, D Loss: 0.682350, G Loss: 2.018673\n",
            "Epoch: 39/100, Step: 612, D Loss: 0.706860, G Loss: 1.342000\n",
            "Epoch: 39/100, Step: 618, D Loss: 0.992275, G Loss: 1.597532\n",
            "Epoch: 40/100, Step: 624, D Loss: 1.414480, G Loss: 1.605206\n",
            "Epoch: 40/100, Step: 630, D Loss: 1.066996, G Loss: 1.539179\n",
            "Epoch: 40/100, Step: 636, D Loss: 1.363394, G Loss: 1.628427\n",
            "Epoch: 41/100, Step: 642, D Loss: 0.829332, G Loss: 1.614133\n",
            "Epoch: 41/100, Step: 648, D Loss: 0.817425, G Loss: 1.431720\n",
            "Epoch: 41/100, Step: 654, D Loss: 0.612915, G Loss: 2.064910\n",
            "Epoch: 42/100, Step: 660, D Loss: 0.984839, G Loss: 1.195844\n",
            "Epoch: 42/100, Step: 666, D Loss: 0.823353, G Loss: 1.353573\n",
            "Epoch: 43/100, Step: 672, D Loss: 0.972156, G Loss: 1.405623\n",
            "Epoch: 43/100, Step: 678, D Loss: 1.193150, G Loss: 1.304976\n",
            "Epoch: 43/100, Step: 684, D Loss: 0.939878, G Loss: 1.729269\n",
            "Epoch: 44/100, Step: 690, D Loss: 0.944892, G Loss: 1.391863\n",
            "Epoch: 44/100, Step: 696, D Loss: 0.876579, G Loss: 1.582324\n",
            "Epoch: 44/100, Step: 702, D Loss: 1.069534, G Loss: 1.411441\n",
            "Epoch: 45/100, Step: 708, D Loss: 0.816697, G Loss: 1.948303\n",
            "Epoch: 45/100, Step: 714, D Loss: 1.179841, G Loss: 1.652904\n",
            "Epoch: 46/100, Step: 720, D Loss: 1.131497, G Loss: 1.609467\n",
            "Epoch: 46/100, Step: 726, D Loss: 0.822597, G Loss: 1.441067\n",
            "Epoch: 46/100, Step: 732, D Loss: 0.985645, G Loss: 1.845025\n",
            "Epoch: 47/100, Step: 738, D Loss: 1.004084, G Loss: 1.529374\n",
            "Epoch: 47/100, Step: 744, D Loss: 0.813389, G Loss: 2.015072\n",
            "Epoch: 47/100, Step: 750, D Loss: 0.543618, G Loss: 1.907031\n",
            "Epoch: 48/100, Step: 756, D Loss: 1.259890, G Loss: 1.784400\n",
            "Epoch: 48/100, Step: 762, D Loss: 0.399140, G Loss: 2.017133\n",
            "Epoch: 49/100, Step: 768, D Loss: 0.331558, G Loss: 2.165622\n",
            "Epoch: 49/100, Step: 774, D Loss: 0.365951, G Loss: 2.159267\n",
            "Epoch: 49/100, Step: 780, D Loss: 0.640591, G Loss: 2.223886\n",
            "Epoch: 50/100, Step: 786, D Loss: 0.841185, G Loss: 1.261759\n",
            "Epoch: 50/100, Step: 792, D Loss: 1.292207, G Loss: 1.869350\n",
            "Epoch: 50/100, Step: 798, D Loss: 1.345538, G Loss: 0.924274\n",
            "Epoch: 51/100, Step: 804, D Loss: 0.920107, G Loss: 1.310341\n",
            "Epoch: 51/100, Step: 810, D Loss: 0.985384, G Loss: 1.619390\n",
            "Epoch: 52/100, Step: 816, D Loss: 0.717280, G Loss: 1.754995\n",
            "Epoch: 52/100, Step: 822, D Loss: 0.679376, G Loss: 1.670226\n",
            "Epoch: 52/100, Step: 828, D Loss: 0.704111, G Loss: 1.223060\n",
            "Epoch: 53/100, Step: 834, D Loss: 0.669135, G Loss: 1.975140\n",
            "Epoch: 53/100, Step: 840, D Loss: 0.455972, G Loss: 1.867522\n",
            "Epoch: 53/100, Step: 846, D Loss: 0.931698, G Loss: 2.335669\n",
            "Epoch: 54/100, Step: 852, D Loss: 0.823117, G Loss: 1.744231\n",
            "Epoch: 54/100, Step: 858, D Loss: 0.642376, G Loss: 1.814747\n",
            "Epoch: 55/100, Step: 864, D Loss: 2.049840, G Loss: 1.147224\n",
            "Epoch: 55/100, Step: 870, D Loss: 0.937587, G Loss: 1.660839\n",
            "Epoch: 55/100, Step: 876, D Loss: 1.029859, G Loss: 1.611611\n",
            "Epoch: 56/100, Step: 882, D Loss: 0.729419, G Loss: 1.728473\n",
            "Epoch: 56/100, Step: 888, D Loss: 0.625535, G Loss: 2.516224\n",
            "Epoch: 56/100, Step: 894, D Loss: 0.745575, G Loss: 1.999567\n",
            "Epoch: 57/100, Step: 900, D Loss: 0.965522, G Loss: 1.461203\n",
            "Epoch: 57/100, Step: 906, D Loss: 0.905399, G Loss: 1.551430\n",
            "Epoch: 58/100, Step: 912, D Loss: 1.311838, G Loss: 2.059457\n",
            "Epoch: 58/100, Step: 918, D Loss: 0.856421, G Loss: 1.967124\n",
            "Epoch: 58/100, Step: 924, D Loss: 0.897364, G Loss: 2.445887\n",
            "Epoch: 59/100, Step: 930, D Loss: 0.791531, G Loss: 1.830138\n",
            "Epoch: 59/100, Step: 936, D Loss: 0.681813, G Loss: 1.504286\n",
            "Epoch: 59/100, Step: 942, D Loss: 0.625677, G Loss: 1.719333\n",
            "Epoch: 60/100, Step: 948, D Loss: 0.588542, G Loss: 2.052932\n",
            "Epoch: 60/100, Step: 954, D Loss: 0.581237, G Loss: 2.089449\n",
            "Epoch: 61/100, Step: 960, D Loss: 0.870639, G Loss: 1.084503\n",
            "Epoch: 61/100, Step: 966, D Loss: 0.947168, G Loss: 1.915474\n",
            "Epoch: 61/100, Step: 972, D Loss: 0.574041, G Loss: 2.401622\n",
            "Epoch: 62/100, Step: 978, D Loss: 0.740191, G Loss: 1.771281\n",
            "Epoch: 62/100, Step: 984, D Loss: 0.566110, G Loss: 2.063310\n",
            "Epoch: 62/100, Step: 990, D Loss: 0.521334, G Loss: 2.297088\n",
            "Epoch: 63/100, Step: 996, D Loss: 0.625000, G Loss: 1.761662\n",
            "Epoch: 63/100, Step: 1002, D Loss: 0.790594, G Loss: 2.129818\n",
            "Epoch: 64/100, Step: 1008, D Loss: 0.975831, G Loss: 2.336846\n",
            "Epoch: 64/100, Step: 1014, D Loss: 0.497777, G Loss: 2.044450\n",
            "Epoch: 64/100, Step: 1020, D Loss: 1.014570, G Loss: 1.302478\n",
            "Epoch: 65/100, Step: 1026, D Loss: 1.201471, G Loss: 0.897801\n",
            "Epoch: 65/100, Step: 1032, D Loss: 0.768559, G Loss: 1.992573\n",
            "Epoch: 65/100, Step: 1038, D Loss: 1.011378, G Loss: 1.532709\n",
            "Epoch: 66/100, Step: 1044, D Loss: 0.889372, G Loss: 1.538459\n",
            "Epoch: 66/100, Step: 1050, D Loss: 1.180627, G Loss: 1.821183\n",
            "Epoch: 67/100, Step: 1056, D Loss: 0.555880, G Loss: 1.308926\n",
            "Epoch: 67/100, Step: 1062, D Loss: 0.737478, G Loss: 2.362891\n",
            "Epoch: 67/100, Step: 1068, D Loss: 0.873632, G Loss: 2.776052\n",
            "Epoch: 68/100, Step: 1074, D Loss: 0.640876, G Loss: 1.877704\n",
            "Epoch: 68/100, Step: 1080, D Loss: 0.372686, G Loss: 2.117169\n",
            "Epoch: 68/100, Step: 1086, D Loss: 0.645275, G Loss: 2.306729\n",
            "Epoch: 69/100, Step: 1092, D Loss: 0.661761, G Loss: 1.702822\n",
            "Epoch: 69/100, Step: 1098, D Loss: 0.799384, G Loss: 1.969054\n",
            "Epoch: 70/100, Step: 1104, D Loss: 0.675915, G Loss: 2.204656\n",
            "Epoch: 70/100, Step: 1110, D Loss: 0.651140, G Loss: 1.089860\n",
            "Epoch: 70/100, Step: 1116, D Loss: 0.579399, G Loss: 1.727474\n",
            "Epoch: 71/100, Step: 1122, D Loss: 1.165037, G Loss: 1.058604\n",
            "Epoch: 71/100, Step: 1128, D Loss: 1.046639, G Loss: 2.064932\n",
            "Epoch: 71/100, Step: 1134, D Loss: 0.597219, G Loss: 2.266390\n",
            "Epoch: 72/100, Step: 1140, D Loss: 1.159036, G Loss: 1.459579\n",
            "Epoch: 72/100, Step: 1146, D Loss: 0.655790, G Loss: 1.921968\n",
            "Epoch: 73/100, Step: 1152, D Loss: 1.222256, G Loss: 2.042697\n",
            "Epoch: 73/100, Step: 1158, D Loss: 0.733534, G Loss: 2.203537\n",
            "Epoch: 73/100, Step: 1164, D Loss: 0.767298, G Loss: 2.184073\n",
            "Epoch: 74/100, Step: 1170, D Loss: 0.938549, G Loss: 1.365940\n",
            "Epoch: 74/100, Step: 1176, D Loss: 0.631993, G Loss: 1.950963\n",
            "Epoch: 74/100, Step: 1182, D Loss: 0.508386, G Loss: 2.081892\n",
            "Epoch: 75/100, Step: 1188, D Loss: 0.563041, G Loss: 1.828707\n",
            "Epoch: 75/100, Step: 1194, D Loss: 0.732994, G Loss: 2.235907\n",
            "Epoch: 76/100, Step: 1200, D Loss: 1.195606, G Loss: 2.209493\n",
            "Epoch: 76/100, Step: 1206, D Loss: 0.887980, G Loss: 2.643156\n",
            "Epoch: 76/100, Step: 1212, D Loss: 0.642280, G Loss: 2.392861\n",
            "Epoch: 77/100, Step: 1218, D Loss: 0.760118, G Loss: 1.806025\n",
            "Epoch: 77/100, Step: 1224, D Loss: 0.648538, G Loss: 1.984928\n",
            "Epoch: 77/100, Step: 1230, D Loss: 0.694964, G Loss: 1.913091\n",
            "Epoch: 78/100, Step: 1236, D Loss: 0.558289, G Loss: 1.882278\n",
            "Epoch: 78/100, Step: 1242, D Loss: 0.783787, G Loss: 1.991685\n",
            "Epoch: 79/100, Step: 1248, D Loss: 0.958693, G Loss: 1.070288\n",
            "Epoch: 79/100, Step: 1254, D Loss: 1.030558, G Loss: 1.527480\n",
            "Epoch: 79/100, Step: 1260, D Loss: 0.502205, G Loss: 1.625658\n",
            "Epoch: 80/100, Step: 1266, D Loss: 0.672294, G Loss: 2.258420\n",
            "Epoch: 80/100, Step: 1272, D Loss: 0.480743, G Loss: 1.691827\n",
            "Epoch: 80/100, Step: 1278, D Loss: 0.817706, G Loss: 2.121188\n",
            "Epoch: 81/100, Step: 1284, D Loss: 0.774300, G Loss: 2.395599\n",
            "Epoch: 81/100, Step: 1290, D Loss: 0.898831, G Loss: 1.396043\n",
            "Epoch: 82/100, Step: 1296, D Loss: 0.521846, G Loss: 1.588705\n",
            "Epoch: 82/100, Step: 1302, D Loss: 0.561784, G Loss: 2.259140\n",
            "Epoch: 82/100, Step: 1308, D Loss: 0.479220, G Loss: 2.428729\n",
            "Epoch: 83/100, Step: 1314, D Loss: 0.668679, G Loss: 2.113287\n",
            "Epoch: 83/100, Step: 1320, D Loss: 0.625156, G Loss: 1.698727\n",
            "Epoch: 83/100, Step: 1326, D Loss: 0.867984, G Loss: 2.948443\n",
            "Epoch: 84/100, Step: 1332, D Loss: 0.900709, G Loss: 3.073699\n",
            "Epoch: 84/100, Step: 1338, D Loss: 0.659411, G Loss: 1.748412\n",
            "Epoch: 85/100, Step: 1344, D Loss: 0.686288, G Loss: 2.194358\n",
            "Epoch: 85/100, Step: 1350, D Loss: 0.879373, G Loss: 1.995748\n",
            "Epoch: 85/100, Step: 1356, D Loss: 0.590035, G Loss: 2.422404\n",
            "Epoch: 86/100, Step: 1362, D Loss: 0.737637, G Loss: 2.163158\n",
            "Epoch: 86/100, Step: 1368, D Loss: 0.820707, G Loss: 1.474365\n",
            "Epoch: 86/100, Step: 1374, D Loss: 0.512523, G Loss: 2.316670\n",
            "Epoch: 87/100, Step: 1380, D Loss: 0.807667, G Loss: 2.054171\n",
            "Epoch: 87/100, Step: 1386, D Loss: 0.810235, G Loss: 2.845397\n",
            "Epoch: 88/100, Step: 1392, D Loss: 1.515182, G Loss: 1.932117\n",
            "Epoch: 88/100, Step: 1398, D Loss: 0.862389, G Loss: 1.058938\n",
            "Epoch: 88/100, Step: 1404, D Loss: 0.620400, G Loss: 1.019704\n",
            "Epoch: 89/100, Step: 1410, D Loss: 1.066262, G Loss: 1.583358\n",
            "Epoch: 89/100, Step: 1416, D Loss: 0.797726, G Loss: 1.267323\n",
            "Epoch: 89/100, Step: 1422, D Loss: 0.825441, G Loss: 2.296587\n",
            "Epoch: 90/100, Step: 1428, D Loss: 0.913925, G Loss: 1.957860\n",
            "Epoch: 90/100, Step: 1434, D Loss: 0.453782, G Loss: 2.351298\n",
            "Epoch: 91/100, Step: 1440, D Loss: 0.580474, G Loss: 2.332098\n",
            "Epoch: 91/100, Step: 1446, D Loss: 0.692996, G Loss: 2.054630\n",
            "Epoch: 91/100, Step: 1452, D Loss: 0.607924, G Loss: 2.538324\n",
            "Epoch: 92/100, Step: 1458, D Loss: 0.443703, G Loss: 2.762606\n",
            "Epoch: 92/100, Step: 1464, D Loss: 0.617442, G Loss: 1.596164\n",
            "Epoch: 92/100, Step: 1470, D Loss: 1.120697, G Loss: 1.785236\n",
            "Epoch: 93/100, Step: 1476, D Loss: 0.601857, G Loss: 1.891927\n",
            "Epoch: 93/100, Step: 1482, D Loss: 0.580265, G Loss: 2.775662\n",
            "Epoch: 94/100, Step: 1488, D Loss: 1.035713, G Loss: 1.324284\n",
            "Epoch: 94/100, Step: 1494, D Loss: 0.420521, G Loss: 2.317413\n",
            "Epoch: 94/100, Step: 1500, D Loss: 0.577397, G Loss: 2.496543\n",
            "Epoch: 95/100, Step: 1506, D Loss: 1.041458, G Loss: 1.896560\n",
            "Epoch: 95/100, Step: 1512, D Loss: 0.695466, G Loss: 2.044892\n",
            "Epoch: 95/100, Step: 1518, D Loss: 0.418640, G Loss: 2.374635\n",
            "Epoch: 96/100, Step: 1524, D Loss: 0.657964, G Loss: 2.110560\n",
            "Epoch: 96/100, Step: 1530, D Loss: 1.178865, G Loss: 2.321905\n",
            "Epoch: 97/100, Step: 1536, D Loss: 0.667694, G Loss: 1.937945\n",
            "Epoch: 97/100, Step: 1542, D Loss: 0.416702, G Loss: 2.849019\n",
            "Epoch: 97/100, Step: 1548, D Loss: 0.920694, G Loss: 2.587121\n",
            "Epoch: 98/100, Step: 1554, D Loss: 0.795056, G Loss: 1.912661\n",
            "Epoch: 98/100, Step: 1560, D Loss: 0.519423, G Loss: 2.186668\n",
            "Epoch: 98/100, Step: 1566, D Loss: 0.795498, G Loss: 2.243676\n",
            "Epoch: 99/100, Step: 1572, D Loss: 1.006956, G Loss: 1.530750\n",
            "Epoch: 99/100, Step: 1578, D Loss: 0.841512, G Loss: 2.144088\n",
            "Epoch: 100/100, Step: 1584, D Loss: 0.337388, G Loss: 1.989322\n",
            "Epoch: 100/100, Step: 1590, D Loss: 0.245964, G Loss: 2.362180\n",
            "Epoch: 100/100, Step: 1596, D Loss: 0.277696, G Loss: 2.699310\n"
          ],
          "name": "stdout"
        }
      ]
    },
    {
      "cell_type": "code",
      "metadata": {
        "id": "BJfMeUCoI8Cx",
        "colab_type": "code",
        "colab": {
          "base_uri": "https://localhost:8080/",
          "height": 285
        },
        "outputId": "e3dc3cb9-47ee-4bbb-bf89-8f21848f98aa"
      },
      "source": [
        "# generation to image\n",
        "G.eval()\n",
        "imshow(get_sample_image(G, n_noise)[0])"
      ],
      "execution_count": 32,
      "outputs": [
        {
          "output_type": "execute_result",
          "data": {
            "text/plain": [
              "<matplotlib.image.AxesImage at 0x7f350d8b1550>"
            ]
          },
          "metadata": {
            "tags": []
          },
          "execution_count": 32
        },
        {
          "output_type": "display_data",
          "data": {
            "image/png": "[encoded data removed]",
            "text/plain": [
              "<Figure size 432x288 with 1 Axes>"
            ]
          },
          "metadata": {
            "tags": []
          }
        }
      ]
    },
    {
      "cell_type": "code",
      "metadata": {
        "id": "jhA7YJckI96Z",
        "colab_type": "code",
        "colab": {
          "base_uri": "https://localhost:8080/",
          "height": 303
        },
        "outputId": "506335d3-c52d-4db1-fe07-53af9c8cb640"
      },
      "source": [
        "\n",
        "# Real Image\n",
        "t = Image.open(dataset[12][0])\n",
        "t = (train_transforms(t).permute(1, 2, 0)+1)/2.\n",
        "imshow(t)"
      ],
      "execution_count": 33,
      "outputs": [
        {
          "output_type": "stream",
          "text": [
            "Clipping input data to the valid range for imshow with RGB data ([0..1] for floats or [0..255] for integers).\n"
          ],
          "name": "stderr"
        },
        {
          "output_type": "execute_result",
          "data": {
            "text/plain": [
              "<matplotlib.image.AxesImage at 0x7f350d84b668>"
            ]
          },
          "metadata": {
            "tags": []
          },
          "execution_count": 33
        },
        {
          "output_type": "display_data",
          "data": {
            "image/png": "[encoded data removed]",
            "text/plain": [
              "<Figure size 432x288 with 1 Axes>"
            ]
          },
          "metadata": {
            "tags": []
          }
        }
      ]
    },
    {
      "cell_type": "code",
      "metadata": {
        "id": "iak5OhGcGmnj",
        "colab_type": "code",
        "colab": {}
      },
      "source": [
        "#path = f'/content/gdrive/My Drive/EVA4P2_S2_Weights/Mobilenet_V2_Stable_0730V3.pt'\n",
        "#model.load_state_dict(torch.load(path))\n",
        "path_stable_prev_save = f'/content/gdrive/My Drive/EVA4P2_S2_Weights/Mobilenet_V2_Stable_GPU_0808V1.pt'\n",
        "model = torch.jit.load(path_stable_prev_save)"
      ],
      "execution_count": null,
      "outputs": []
    },
    {
      "cell_type": "code",
      "metadata": {
        "id": "W5KoBN6YscRU",
        "colab_type": "code",
        "colab": {}
      },
      "source": [
        "y = torch.randn(100,3,32,32)"
      ],
      "execution_count": null,
      "outputs": []
    },
    {
      "cell_type": "code",
      "metadata": {
        "id": "zpXVqRZ9nD6j",
        "colab_type": "code",
        "colab": {}
      },
      "source": [
        "y_new = F.interpolate(y, (100,100))"
      ],
      "execution_count": null,
      "outputs": []
    },
    {
      "cell_type": "code",
      "metadata": {
        "id": "zzmlc2dnnITV",
        "colab_type": "code",
        "colab": {
          "base_uri": "https://localhost:8080/",
          "height": 35
        },
        "outputId": "70cc72a5-c462-4b8c-c56f-29bd6aca1b65"
      },
      "source": [
        "y_new.shape"
      ],
      "execution_count": null,
      "outputs": [
        {
          "output_type": "execute_result",
          "data": {
            "text/plain": [
              "torch.Size([100, 3, 100, 100])"
            ]
          },
          "metadata": {
            "tags": []
          },
          "execution_count": 165
        }
      ]
    },
    {
      "cell_type": "code",
      "metadata": {
        "id": "SgGBvAqynKCy",
        "colab_type": "code",
        "colab": {
          "base_uri": "https://localhost:8080/",
          "height": 35
        },
        "outputId": "63949301-3d74-4c34-d011-10c9484384ea"
      },
      "source": [
        "y.shape"
      ],
      "execution_count": null,
      "outputs": [
        {
          "output_type": "execute_result",
          "data": {
            "text/plain": [
              "torch.Size([100, 3, 32, 32])"
            ]
          },
          "metadata": {
            "tags": []
          },
          "execution_count": 166
        }
      ]
    },
    {
      "cell_type": "code",
      "metadata": {
        "id": "DDrg7Nz6nMUU",
        "colab_type": "code",
        "colab": {}
      },
      "source": [
        ""
      ],
      "execution_count": null,
      "outputs": []
    }
  ]
}